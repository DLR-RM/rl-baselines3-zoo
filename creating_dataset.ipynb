{
 "cells": [
  {
   "cell_type": "markdown",
   "metadata": {
    "id": "tGLYJuXmFBZI"
   },
   "source": [
    "# Web attack detection using CICIDS2017 dataset"
   ]
  },
  {
   "cell_type": "markdown",
   "metadata": {
    "id": "sNPL1uYLFF1U"
   },
   "source": [
    "Training data: \"Intrusion Detection Evaluation Dataset\" (CICIDS2017). Description page: https://www.unb.ca/cic/datasets/ids-2017.html\n",
    "\n",
    "The data set is public. Download link: http://205.174.165.80/CICDataset/CIC-IDS-2017/Dataset/\n",
    "\n",
    "CICIDS2017 combines 8 files recorded on different days of observation (PCAP + CSV). Used archive: http://205.174.165.80/CICDataset/CIC-IDS-2017/Dataset/GeneratedLabelledFlows.zip\n",
    "\n",
    "In the downloaded archive GeneratedLabelledFlows.zip the file \"Thursday\" Thursday-WorkingHours-Morning-WebAttacks.pcap_ISCX.csv is selected.\n",
    "\n",
    "Sources:\n",
    "\n",
    "* [Sharafaldin2018] Iman Sharafaldin, Arash Habibi Lashkari and Ali A. Ghorbani. Toward Generating a New Intrusion Detection Dataset and Intrusion Traffic Characterization. 2018\n",
    "* [Kostas2018] Kahraman Kostas. Anomaly Detection in Networks Using Machine Learning. 2018 (error was found in assessing the importance of features)\n",
    "* https://github.com/bozbil/Anomaly-Detection-in-Networks-Using-Machine-Learning (error was found in assessing the importance of features)"
   ]
  },
  {
   "cell_type": "markdown",
   "metadata": {
    "id": "SCEkDfpOFPQX"
   },
   "source": [
    "## Data preprocessing\n",
    "\n",
    "Source: https://github.com/bozbil/Anomaly-Detection-in-Networks-Using-Machine-Learning/blob/master/01_preprocessing.ipynb [Kostas2018]."
   ]
  },
  {
   "cell_type": "code",
   "execution_count": 2,
   "metadata": {
    "id": "hJVAToeYFV2Q"
   },
   "outputs": [],
   "source": [
    "import pandas as pd\n",
    "import numpy as np\n",
    "from sklearn import preprocessing\n",
    "import matplotlib.pyplot as plt\n",
    "%matplotlib inline"
   ]
  },
  {
   "cell_type": "markdown",
   "metadata": {
    "id": "PFtoDi5mFkut"
   },
   "source": [
    "Download the dataset from Github to Google Colab and unzip it."
   ]
  },
  {
   "cell_type": "code",
   "execution_count": null,
   "metadata": {
    "colab": {
     "base_uri": "https://localhost:8080/"
    },
    "id": "fX1ARK3i3xQs",
    "outputId": "088a276e-1fd0-495c-8d34-da7bfb3aec34"
   },
   "outputs": [],
   "source": [
    "!wget https://raw.githubusercontent.com/infosecdemos/ml-2020/master/ml-ids/datasets/Thursday-WorkingHours-Morning-WebAttacks.pcap_ISCX.zip -O dataset.zip\n",
    "!unzip -u dataset.zip"
   ]
  },
  {
   "cell_type": "markdown",
   "metadata": {
    "id": "i4vnx_OaGAl0"
   },
   "source": [
    "We use \"engine=python\" to avoid the \"UnicodeDecodeError: 'utf-8' codec can't decode byte 0x96 in position 11: invalid start byte\" encoding error."
   ]
  },
  {
   "cell_type": "code",
   "execution_count": 2,
   "metadata": {
    "id": "yIqeKHKYGCoz"
   },
   "outputs": [],
   "source": [
    "df = pd.read_csv('Thursday-WorkingHours-Morning-WebAttacks.pcap_ISCX.csv', engine='python')"
   ]
  },
  {
   "cell_type": "markdown",
   "metadata": {
    "id": "3U-gQIAmhamL"
   },
   "source": [
    "Thursday-WorkingHours-Morning-WebAttacks.pcap_ISCX.csv file contains 458968 records, 85 columns."
   ]
  },
  {
   "cell_type": "code",
   "execution_count": 3,
   "metadata": {
    "colab": {
     "base_uri": "https://localhost:8080/"
    },
    "id": "QMkibc_W4hpQ",
    "outputId": "7cfd3c75-7531-4a66-b4ee-d8876451de37"
   },
   "outputs": [
    {
     "data": {
      "text/plain": [
       "(458968, 85)"
      ]
     },
     "execution_count": 3,
     "metadata": {},
     "output_type": "execute_result"
    }
   ],
   "source": [
    "df.shape"
   ]
  },
  {
   "cell_type": "markdown",
   "metadata": {
    "id": "E5kIR-daheeV"
   },
   "source": [
    "The columns \"Fwd Header Length\" and \"Fwd Header Length.1\" are identical, the second one is removed, 84 columns remain."
   ]
  },
  {
   "cell_type": "code",
   "execution_count": 4,
   "metadata": {
    "colab": {
     "base_uri": "https://localhost:8080/"
    },
    "id": "83UFLCVlhjKF",
    "outputId": "2feb7048-5acd-4d38-8767-5cf5ea9d91e2"
   },
   "outputs": [],
   "source": [
    "df.columns = df.columns.str.strip()\n",
    "df = df.drop(columns=['Fwd Header Length.1'])"
   ]
  },
  {
   "cell_type": "markdown",
   "metadata": {
    "id": "BIQQvtxZhiTZ"
   },
   "source": [
    "When assessing the distribution of labels, it turns out that out of 458968 records there are many blank records (\"BENIGN\" - benign background traffic)."
   ]
  },
  {
   "cell_type": "code",
   "execution_count": 5,
   "metadata": {
    "colab": {
     "base_uri": "https://localhost:8080/"
    },
    "id": "HrGLjk5nhrGE",
    "outputId": "ae3370b8-9cc5-4cd1-ae7f-a3e97b25653c"
   },
   "outputs": [
    {
     "data": {
      "text/plain": [
       "array(['BENIGN', 'Web Attack � Brute Force', 'Web Attack � XSS',\n",
       "       'Web Attack � Sql Injection', nan], dtype=object)"
      ]
     },
     "execution_count": 5,
     "metadata": {},
     "output_type": "execute_result"
    }
   ],
   "source": [
    "df['Label'].unique()"
   ]
  },
  {
   "cell_type": "code",
   "execution_count": 6,
   "metadata": {
    "colab": {
     "base_uri": "https://localhost:8080/"
    },
    "id": "HnpQqQ8fhxwN",
    "outputId": "756fcca6-20dd-444b-bf29-e3a920381e7a"
   },
   "outputs": [
    {
     "data": {
      "text/plain": [
       "BENIGN                        168186\n",
       "Web Attack � Brute Force        1507\n",
       "Web Attack � XSS                 652\n",
       "Web Attack � Sql Injection        21\n",
       "Name: Label, dtype: int64"
      ]
     },
     "execution_count": 6,
     "metadata": {},
     "output_type": "execute_result"
    }
   ],
   "source": [
    "df['Label'].value_counts()"
   ]
  },
  {
   "cell_type": "markdown",
   "metadata": {
    "id": "l7lpytF7h6D4"
   },
   "source": [
    "Delete blank records."
   ]
  },
  {
   "cell_type": "code",
   "execution_count": 7,
   "metadata": {
    "colab": {
     "base_uri": "https://localhost:8080/"
    },
    "id": "7ltfHW8dh7Tw",
    "outputId": "4c5303cd-0bdd-4d2c-b1e2-026d37fe76c0"
   },
   "outputs": [
    {
     "data": {
      "text/plain": [
       "(170366, 84)"
      ]
     },
     "execution_count": 7,
     "metadata": {},
     "output_type": "execute_result"
    }
   ],
   "source": [
    "df = df.drop(df[pd.isnull(df['Flow ID'])].index)\n",
    "df.shape"
   ]
  },
  {
   "cell_type": "markdown",
   "metadata": {},
   "source": [
    "Удалить NaN, Infinity values\n",
    "\n",
    "The \"Flow Bytes/s\" and \"Flow Packets/s\" columns have non-numerical values, replace them."
   ]
  },
  {
   "cell_type": "code",
   "execution_count": 8,
   "metadata": {},
   "outputs": [
    {
     "data": {
      "text/plain": [
       "(170231, 84)"
      ]
     },
     "execution_count": 8,
     "metadata": {},
     "output_type": "execute_result"
    }
   ],
   "source": [
    "df.replace('Infinity',np.nan,inplace=True)\n",
    "df[[\"Flow Bytes/s\", \"Flow Packets/s\"]] = df[[\"Flow Bytes/s\", \"Flow Packets/s\"]].apply(pd.to_numeric)\n",
    "df.replace([np.inf, -np.inf], np.nan, inplace=True)\n",
    "df.dropna(inplace=True)\n",
    "df.shape"
   ]
  },
  {
   "cell_type": "code",
   "execution_count": 9,
   "metadata": {},
   "outputs": [
    {
     "data": {
      "text/plain": [
       "Index(['Flow ID', 'Source IP', 'Source Port', 'Destination IP',\n",
       "       'Destination Port', 'Protocol', 'Timestamp', 'Flow Duration',\n",
       "       'Total Fwd Packets', 'Total Backward Packets',\n",
       "       'Total Length of Fwd Packets', 'Total Length of Bwd Packets',\n",
       "       'Fwd Packet Length Max', 'Fwd Packet Length Min',\n",
       "       'Fwd Packet Length Mean', 'Fwd Packet Length Std',\n",
       "       'Bwd Packet Length Max', 'Bwd Packet Length Min',\n",
       "       'Bwd Packet Length Mean', 'Bwd Packet Length Std', 'Flow Bytes/s',\n",
       "       'Flow Packets/s', 'Flow IAT Mean', 'Flow IAT Std', 'Flow IAT Max',\n",
       "       'Flow IAT Min', 'Fwd IAT Total', 'Fwd IAT Mean', 'Fwd IAT Std',\n",
       "       'Fwd IAT Max', 'Fwd IAT Min', 'Bwd IAT Total', 'Bwd IAT Mean',\n",
       "       'Bwd IAT Std', 'Bwd IAT Max', 'Bwd IAT Min', 'Fwd PSH Flags',\n",
       "       'Bwd PSH Flags', 'Fwd URG Flags', 'Bwd URG Flags', 'Fwd Header Length',\n",
       "       'Bwd Header Length', 'Fwd Packets/s', 'Bwd Packets/s',\n",
       "       'Min Packet Length', 'Max Packet Length', 'Packet Length Mean',\n",
       "       'Packet Length Std', 'Packet Length Variance', 'FIN Flag Count',\n",
       "       'SYN Flag Count', 'RST Flag Count', 'PSH Flag Count', 'ACK Flag Count',\n",
       "       'URG Flag Count', 'CWE Flag Count', 'ECE Flag Count', 'Down/Up Ratio',\n",
       "       'Average Packet Size', 'Avg Fwd Segment Size', 'Avg Bwd Segment Size',\n",
       "       'Fwd Avg Bytes/Bulk', 'Fwd Avg Packets/Bulk', 'Fwd Avg Bulk Rate',\n",
       "       'Bwd Avg Bytes/Bulk', 'Bwd Avg Packets/Bulk', 'Bwd Avg Bulk Rate',\n",
       "       'Subflow Fwd Packets', 'Subflow Fwd Bytes', 'Subflow Bwd Packets',\n",
       "       'Subflow Bwd Bytes', 'Init_Win_bytes_forward',\n",
       "       'Init_Win_bytes_backward', 'act_data_pkt_fwd', 'min_seg_size_forward',\n",
       "       'Active Mean', 'Active Std', 'Active Max', 'Active Min', 'Idle Mean',\n",
       "       'Idle Std', 'Idle Max', 'Idle Min', 'Label'],\n",
       "      dtype='object')"
      ]
     },
     "execution_count": 9,
     "metadata": {},
     "output_type": "execute_result"
    }
   ],
   "source": [
    "df.columns"
   ]
  },
  {
   "cell_type": "markdown",
   "metadata": {
    "id": "2JMv7gKfi4nI"
   },
   "source": [
    "Convert string characters to numbers, use LabelEncoder, not OneHotEncoder."
   ]
  },
  {
   "cell_type": "code",
   "execution_count": 10,
   "metadata": {
    "colab": {
     "base_uri": "https://localhost:8080/"
    },
    "id": "XmYOMG0Ti8Wh",
    "outputId": "da9cacfc-4f7c-4b8b-f348-c86ed4b80dff"
   },
   "outputs": [
    {
     "data": {
      "text/plain": [
       "['Flow ID', 'Source IP', 'Destination IP', 'Timestamp']"
      ]
     },
     "execution_count": 10,
     "metadata": {},
     "output_type": "execute_result"
    }
   ],
   "source": [
    "string_features = list(df.select_dtypes(include=['object']).columns)\n",
    "string_features.remove('Label')\n",
    "string_features"
   ]
  },
  {
   "cell_type": "code",
   "execution_count": 11,
   "metadata": {
    "id": "ySZ2eW_2jCfQ"
   },
   "outputs": [],
   "source": [
    "le = preprocessing.LabelEncoder()\n",
    "df[string_features] = df[string_features].apply(lambda col: le.fit_transform(col))"
   ]
  },
  {
   "cell_type": "code",
   "execution_count": 12,
   "metadata": {},
   "outputs": [
    {
     "data": {
      "text/html": [
       "<div>\n",
       "<style scoped>\n",
       "    .dataframe tbody tr th:only-of-type {\n",
       "        vertical-align: middle;\n",
       "    }\n",
       "\n",
       "    .dataframe tbody tr th {\n",
       "        vertical-align: top;\n",
       "    }\n",
       "\n",
       "    .dataframe thead th {\n",
       "        text-align: right;\n",
       "    }\n",
       "</style>\n",
       "<table border=\"1\" class=\"dataframe\">\n",
       "  <thead>\n",
       "    <tr style=\"text-align: right;\">\n",
       "      <th></th>\n",
       "      <th>Flow ID</th>\n",
       "      <th>Source IP</th>\n",
       "      <th>Source Port</th>\n",
       "      <th>Destination IP</th>\n",
       "      <th>Destination Port</th>\n",
       "      <th>Protocol</th>\n",
       "      <th>Timestamp</th>\n",
       "      <th>Flow Duration</th>\n",
       "      <th>Total Fwd Packets</th>\n",
       "      <th>Total Backward Packets</th>\n",
       "      <th>...</th>\n",
       "      <th>min_seg_size_forward</th>\n",
       "      <th>Active Mean</th>\n",
       "      <th>Active Std</th>\n",
       "      <th>Active Max</th>\n",
       "      <th>Active Min</th>\n",
       "      <th>Idle Mean</th>\n",
       "      <th>Idle Std</th>\n",
       "      <th>Idle Max</th>\n",
       "      <th>Idle Min</th>\n",
       "      <th>Label</th>\n",
       "    </tr>\n",
       "  </thead>\n",
       "  <tbody>\n",
       "    <tr>\n",
       "      <th>150928</th>\n",
       "      <td>14347</td>\n",
       "      <td>1263</td>\n",
       "      <td>61239.0</td>\n",
       "      <td>1590</td>\n",
       "      <td>53.0</td>\n",
       "      <td>17.0</td>\n",
       "      <td>120</td>\n",
       "      <td>9735257.0</td>\n",
       "      <td>2.0</td>\n",
       "      <td>2.0</td>\n",
       "      <td>...</td>\n",
       "      <td>20.0</td>\n",
       "      <td>30898.0</td>\n",
       "      <td>0.000</td>\n",
       "      <td>30898.0</td>\n",
       "      <td>30898.0</td>\n",
       "      <td>9598535.0</td>\n",
       "      <td>0.00000</td>\n",
       "      <td>9598535.0</td>\n",
       "      <td>9598535.0</td>\n",
       "      <td>BENIGN</td>\n",
       "    </tr>\n",
       "    <tr>\n",
       "      <th>30578</th>\n",
       "      <td>25669</td>\n",
       "      <td>1400</td>\n",
       "      <td>443.0</td>\n",
       "      <td>1594</td>\n",
       "      <td>40720.0</td>\n",
       "      <td>6.0</td>\n",
       "      <td>214</td>\n",
       "      <td>1.0</td>\n",
       "      <td>2.0</td>\n",
       "      <td>0.0</td>\n",
       "      <td>...</td>\n",
       "      <td>32.0</td>\n",
       "      <td>0.0</td>\n",
       "      <td>0.000</td>\n",
       "      <td>0.0</td>\n",
       "      <td>0.0</td>\n",
       "      <td>0.0</td>\n",
       "      <td>0.00000</td>\n",
       "      <td>0.0</td>\n",
       "      <td>0.0</td>\n",
       "      <td>BENIGN</td>\n",
       "    </tr>\n",
       "    <tr>\n",
       "      <th>106277</th>\n",
       "      <td>7718</td>\n",
       "      <td>920</td>\n",
       "      <td>443.0</td>\n",
       "      <td>1591</td>\n",
       "      <td>40608.0</td>\n",
       "      <td>6.0</td>\n",
       "      <td>57</td>\n",
       "      <td>3.0</td>\n",
       "      <td>2.0</td>\n",
       "      <td>0.0</td>\n",
       "      <td>...</td>\n",
       "      <td>32.0</td>\n",
       "      <td>0.0</td>\n",
       "      <td>0.000</td>\n",
       "      <td>0.0</td>\n",
       "      <td>0.0</td>\n",
       "      <td>0.0</td>\n",
       "      <td>0.00000</td>\n",
       "      <td>0.0</td>\n",
       "      <td>0.0</td>\n",
       "      <td>BENIGN</td>\n",
       "    </tr>\n",
       "    <tr>\n",
       "      <th>56871</th>\n",
       "      <td>28789</td>\n",
       "      <td>1260</td>\n",
       "      <td>59701.0</td>\n",
       "      <td>4284</td>\n",
       "      <td>80.0</td>\n",
       "      <td>6.0</td>\n",
       "      <td>236</td>\n",
       "      <td>115100459.0</td>\n",
       "      <td>21.0</td>\n",
       "      <td>16.0</td>\n",
       "      <td>...</td>\n",
       "      <td>32.0</td>\n",
       "      <td>1507093.3</td>\n",
       "      <td>2332518.976</td>\n",
       "      <td>4954002.0</td>\n",
       "      <td>50394.0</td>\n",
       "      <td>9997912.2</td>\n",
       "      <td>66545.75937</td>\n",
       "      <td>10000000.0</td>\n",
       "      <td>9811232.0</td>\n",
       "      <td>BENIGN</td>\n",
       "    </tr>\n",
       "    <tr>\n",
       "      <th>146647</th>\n",
       "      <td>32436</td>\n",
       "      <td>1262</td>\n",
       "      <td>50525.0</td>\n",
       "      <td>2164</td>\n",
       "      <td>443.0</td>\n",
       "      <td>6.0</td>\n",
       "      <td>117</td>\n",
       "      <td>64111443.0</td>\n",
       "      <td>2.0</td>\n",
       "      <td>0.0</td>\n",
       "      <td>...</td>\n",
       "      <td>20.0</td>\n",
       "      <td>0.0</td>\n",
       "      <td>0.000</td>\n",
       "      <td>0.0</td>\n",
       "      <td>0.0</td>\n",
       "      <td>0.0</td>\n",
       "      <td>0.00000</td>\n",
       "      <td>0.0</td>\n",
       "      <td>0.0</td>\n",
       "      <td>BENIGN</td>\n",
       "    </tr>\n",
       "  </tbody>\n",
       "</table>\n",
       "<p>5 rows × 84 columns</p>\n",
       "</div>"
      ],
      "text/plain": [
       "        Flow ID  Source IP  Source Port  Destination IP  Destination Port  \\\n",
       "150928    14347       1263      61239.0            1590              53.0   \n",
       "30578     25669       1400        443.0            1594           40720.0   \n",
       "106277     7718        920        443.0            1591           40608.0   \n",
       "56871     28789       1260      59701.0            4284              80.0   \n",
       "146647    32436       1262      50525.0            2164             443.0   \n",
       "\n",
       "        Protocol  Timestamp  Flow Duration  Total Fwd Packets  \\\n",
       "150928      17.0        120      9735257.0                2.0   \n",
       "30578        6.0        214            1.0                2.0   \n",
       "106277       6.0         57            3.0                2.0   \n",
       "56871        6.0        236    115100459.0               21.0   \n",
       "146647       6.0        117     64111443.0                2.0   \n",
       "\n",
       "        Total Backward Packets  ...  min_seg_size_forward  Active Mean  \\\n",
       "150928                     2.0  ...                  20.0      30898.0   \n",
       "30578                      0.0  ...                  32.0          0.0   \n",
       "106277                     0.0  ...                  32.0          0.0   \n",
       "56871                     16.0  ...                  32.0    1507093.3   \n",
       "146647                     0.0  ...                  20.0          0.0   \n",
       "\n",
       "         Active Std  Active Max  Active Min  Idle Mean     Idle Std  \\\n",
       "150928        0.000     30898.0     30898.0  9598535.0      0.00000   \n",
       "30578         0.000         0.0         0.0        0.0      0.00000   \n",
       "106277        0.000         0.0         0.0        0.0      0.00000   \n",
       "56871   2332518.976   4954002.0     50394.0  9997912.2  66545.75937   \n",
       "146647        0.000         0.0         0.0        0.0      0.00000   \n",
       "\n",
       "          Idle Max   Idle Min   Label  \n",
       "150928   9598535.0  9598535.0  BENIGN  \n",
       "30578          0.0        0.0  BENIGN  \n",
       "106277         0.0        0.0  BENIGN  \n",
       "56871   10000000.0  9811232.0  BENIGN  \n",
       "146647         0.0        0.0  BENIGN  \n",
       "\n",
       "[5 rows x 84 columns]"
      ]
     },
     "execution_count": 12,
     "metadata": {},
     "output_type": "execute_result"
    }
   ],
   "source": [
    "df.sample(5)"
   ]
  },
  {
   "cell_type": "markdown",
   "metadata": {
    "id": "K94al8HAjJEN"
   },
   "source": [
    "### Undersampling against unbalance\n",
    "\n",
    "Dataset is unbalanced: total records = 170366, \"BENIGN\" records = 168186, records with attacks much less: 1507 + 652 + 21 = 2180."
   ]
  },
  {
   "cell_type": "code",
   "execution_count": 13,
   "metadata": {
    "colab": {
     "base_uri": "https://localhost:8080/"
    },
    "id": "7K7iWbNMjWrZ",
    "outputId": "09ddf90e-973c-496f-b888-ac82cd1cd730"
   },
   "outputs": [
    {
     "data": {
      "text/plain": [
       "168051"
      ]
     },
     "execution_count": 13,
     "metadata": {},
     "output_type": "execute_result"
    }
   ],
   "source": [
    "benign_total = len(df[df['Label'] == \"BENIGN\"])\n",
    "benign_total"
   ]
  },
  {
   "cell_type": "code",
   "execution_count": 14,
   "metadata": {
    "colab": {
     "base_uri": "https://localhost:8080/"
    },
    "id": "nVs_xEHFjY5q",
    "outputId": "8a8cf8a3-493f-4cab-8c78-94f9801ffd3f"
   },
   "outputs": [
    {
     "data": {
      "text/plain": [
       "2180"
      ]
     },
     "execution_count": 14,
     "metadata": {},
     "output_type": "execute_result"
    }
   ],
   "source": [
    "attack_total = len(df[df['Label'] != \"BENIGN\"])\n",
    "attack_total"
   ]
  },
  {
   "cell_type": "code",
   "execution_count": 15,
   "metadata": {
    "colab": {
     "base_uri": "https://localhost:8080/"
    },
    "id": "PFvPOea2jhMt",
    "outputId": "26895dcc-74ef-4cb7-e7da-35c8b5ee4bd6"
   },
   "outputs": [
    {
     "data": {
      "text/plain": [
       "BENIGN                        168051\n",
       "Web Attack � Brute Force        1507\n",
       "Web Attack � XSS                 652\n",
       "Web Attack � Sql Injection        21\n",
       "Name: Label, dtype: int64"
      ]
     },
     "execution_count": 15,
     "metadata": {},
     "output_type": "execute_result"
    }
   ],
   "source": [
    "df.to_csv(\"web_attacks_unbalanced.csv\", index=False)\n",
    "df['Label'].value_counts()"
   ]
  },
  {
   "cell_type": "markdown",
   "metadata": {
    "id": "6A9-rS7OjyFl"
   },
   "source": [
    "We use **undersampling** to correct class imbalances: we remove most of the \"BENIGN\" records.\n",
    "\n",
    "Form a balanced dataset web_attacks_balanced.csv in proportion: 30% attack (2180 records), 70% benign data (2180 / 30 * 70 ~ = 5087 records).\n",
    "\n",
    "Algorithm to form a balanced df_balanced dataset:\n",
    "\n",
    "* All the records with the attacks are copied to the new dataset.\n",
    "* There are two conditions for copying \"BENIGN\" records to the new dataset:\n",
    " \n",
    "     1. The next record is copyied with the benign_inc_probability.\n",
    "     2. The total number of \"BENIGN\" records must not exceed the limit of 5087 records."
   ]
  },
  {
   "cell_type": "markdown",
   "metadata": {
    "id": "aVZutNOZj_N9"
   },
   "source": [
    "Сalculate the probability of copying a \"BENIGN\" record. The enlargement multiplier is used to get exactly 70% benign data (5087 records)."
   ]
  },
  {
   "cell_type": "code",
   "execution_count": 34,
   "metadata": {
    "colab": {
     "base_uri": "https://localhost:8080/"
    },
    "id": "XaW7sEjHkB3K",
    "outputId": "79d5d5b5-d91b-4004-a3db-b4e8f8fe6dbe"
   },
   "outputs": [
    {
     "name": "stdout",
     "output_type": "stream",
     "text": [
      "5086.666666666667 0.03329544800883859\n"
     ]
    }
   ],
   "source": [
    "df = pd.read_csv('web_attacks_unbalanced.csv')\n",
    "enlargement = 1.1\n",
    "benign_included_max = attack_total / 30 * 70\n",
    "benign_inc_probability = (benign_included_max / benign_total) * enlargement\n",
    "print(benign_included_max, benign_inc_probability)"
   ]
  },
  {
   "cell_type": "markdown",
   "metadata": {
    "id": "G3ZXh6fTkFK_"
   },
   "source": [
    "Copy records from df to df_balanced, save dataset **web_attacks_balanced.csv**."
   ]
  },
  {
   "cell_type": "code",
   "execution_count": 35,
   "metadata": {
    "id": "0MdiMPmdkICk"
   },
   "outputs": [],
   "source": [
    "import random\n",
    "indexes = []\n",
    "benign_included_count = 0\n",
    "for index, row in df.iterrows():\n",
    "    if (row['Label'] != \"BENIGN\"):\n",
    "        indexes.append(index)\n",
    "    else:\n",
    "        # Copying with benign_inc_probability\n",
    "        if random.random() > benign_inc_probability: continue\n",
    "        # Have we achieved 70% (5087 records)?\n",
    "        if benign_included_count > benign_included_max: continue\n",
    "        benign_included_count += 1\n",
    "        indexes.append(index)\n",
    "df_balanced = df.loc[indexes]"
   ]
  },
  {
   "cell_type": "code",
   "execution_count": 36,
   "metadata": {
    "colab": {
     "base_uri": "https://localhost:8080/"
    },
    "id": "cqypBDIdkKN4",
    "outputId": "e5fe647e-d716-42b5-97ec-0353b887e2b2"
   },
   "outputs": [
    {
     "data": {
      "text/plain": [
       "BENIGN                        5087\n",
       "Web Attack � Brute Force      1507\n",
       "Web Attack � XSS               652\n",
       "Web Attack � Sql Injection      21\n",
       "Name: Label, dtype: int64"
      ]
     },
     "execution_count": 36,
     "metadata": {},
     "output_type": "execute_result"
    }
   ],
   "source": [
    "df_balanced['Label'].value_counts()"
   ]
  },
  {
   "cell_type": "markdown",
   "metadata": {
    "id": "hDPCkmutkNYD"
   },
   "source": [
    "If necessary, we can keep a single class of attack for experiments."
   ]
  },
  {
   "cell_type": "code",
   "execution_count": null,
   "metadata": {
    "id": "1_q52wjdkPZ8"
   },
   "outputs": [],
   "source": [
    "# df_balanced = df_balanced[df_balanced['Label'] != \"Web Attack – Brute Force\"]\n",
    "# df_balanced = df_balanced[df_balanced['Label'] != \"Web Attack – Sql Injection\"]\n",
    "# df_balanced['Label'].value_counts()"
   ]
  },
  {
   "cell_type": "code",
   "execution_count": 37,
   "metadata": {
    "id": "qiYFzlGkkSXe"
   },
   "outputs": [],
   "source": [
    "df_balanced.to_csv(\"web_attacks_balanced.csv\", index=False)"
   ]
  },
  {
   "cell_type": "markdown",
   "metadata": {},
   "source": [
    "### СТАРТ ОТСЮДА"
   ]
  },
  {
   "cell_type": "code",
   "execution_count": null,
   "metadata": {},
   "outputs": [],
   "source": [
    "df = pd.read_csv('web_attacks_balanced.csv')\n"
   ]
  },
  {
   "cell_type": "code",
   "execution_count": null,
   "metadata": {},
   "outputs": [],
   "source": [
    "!wget https://raw.githubusercontent.com/infosecdemos/ml-2020/master/ml-ids/datasets/mix_labelled.zip -O mix_labelled.zip\n",
    "!unzip -u mix_labelled.zip"
   ]
  },
  {
   "cell_type": "code",
   "execution_count": 40,
   "metadata": {},
   "outputs": [],
   "source": [
    "df_real = pd.read_csv('mix_labelled.csv')"
   ]
  },
  {
   "cell_type": "markdown",
   "metadata": {},
   "source": [
    "### Preparing data for training\n",
    "\n",
    "7 features (Flow ID, Source IP, Source Port, Destination IP, Destination Port, Protocol, Timestamp) are excluded from the dataset. The hypothesis is that the \"shape\" of the data being transmitted is more important than these attributes. In addition, ports and addresses can be substituted by an attacker, so it is better that the ML algorithm does not take these features into account in training [Kostas2018]."
   ]
  },
  {
   "cell_type": "code",
   "execution_count": 5,
   "metadata": {},
   "outputs": [],
   "source": [
    "excluded = ['Flow ID', 'Source IP', 'Source Port', 'Destination IP', 'Destination Port', 'Protocol', 'Timestamp']\n",
    "df = df.drop(columns=excluded)"
   ]
  },
  {
   "cell_type": "markdown",
   "metadata": {},
   "source": [
    "Below at the stage of importance estimation the \"Init_Win_bytes_backward\" feature has the maximum value. After viewing the source dataset, it seems that an inaccuracy was made in forming the dataset. \n",
    "\n",
    "It turns out that it is possible to make a fairly accurate classification by one feature.\n",
    "\n",
    "Description of features: http://www.netflowmeter.ca/netflowmeter.html\n",
    "\n",
    "     Init_Win_bytes_backward - The total number of bytes sent in initial window in the backward direction\n",
    "     Init_Win_bytes_forward - The total number of bytes sent in initial window in the forward direction"
   ]
  },
  {
   "cell_type": "code",
   "execution_count": 6,
   "metadata": {},
   "outputs": [
    {
     "data": {
      "image/png": "[encoded data removed]",
      "text/plain": [
       "<Figure size 432x288 with 1 Axes>"
      ]
     },
     "metadata": {
      "needs_background": "light"
     },
     "output_type": "display_data"
    }
   ],
   "source": [
    "if 'Init_Win_bytes_backward' in df.columns:\n",
    "    df['Init_Win_bytes_backward'].hist(figsize=(6,4), bins=10);\n",
    "    plt.title(\"Init_Win_bytes_backward\")\n",
    "    plt.xlabel(\"Value bins\")\n",
    "    plt.ylabel(\"Density\")\n",
    "    plt.savefig('Init_Win_bytes_backward.png', dpi=300)"
   ]
  },
  {
   "cell_type": "code",
   "execution_count": 7,
   "metadata": {},
   "outputs": [
    {
     "data": {
      "image/png": "[encoded data removed]",
      "text/plain": [
       "<Figure size 432x288 with 1 Axes>"
      ]
     },
     "metadata": {
      "needs_background": "light"
     },
     "output_type": "display_data"
    }
   ],
   "source": [
    "if 'Init_Win_bytes_forward' in df.columns:\n",
    "    df['Init_Win_bytes_forward'].hist(figsize=(6,4), bins=10);\n",
    "    plt.title(\"Init_Win_bytes_forward\")\n",
    "    plt.xlabel(\"Value bins\")\n",
    "    plt.ylabel(\"Density\")\n",
    "    plt.savefig('Init_Win_bytes_forward.png', dpi=300)"
   ]
  },
  {
   "cell_type": "code",
   "execution_count": 8,
   "metadata": {},
   "outputs": [],
   "source": [
    "excluded2 = ['Init_Win_bytes_backward', 'Init_Win_bytes_forward']\n",
    "df = df.drop(columns=excluded2)"
   ]
  },
  {
   "cell_type": "markdown",
   "metadata": {},
   "source": [
    "Удаление столбцов с нулевой дисперсией"
   ]
  },
  {
   "cell_type": "code",
   "execution_count": 10,
   "metadata": {},
   "outputs": [
    {
     "data": {
      "text/plain": [
       "(7267, 65)"
      ]
     },
     "execution_count": 10,
     "metadata": {},
     "output_type": "execute_result"
    }
   ],
   "source": [
    "zero_variance_columns = [col for col in df.columns[:-1] if df[col].std()==0]\n",
    "df = df.drop(columns=zero_variance_columns)\n",
    "df.shape"
   ]
  },
  {
   "cell_type": "code",
   "execution_count": 12,
   "metadata": {},
   "outputs": [
    {
     "data": {
      "text/plain": [
       "Index(['Flow Duration', 'Total Fwd Packets', 'Total Backward Packets',\n",
       "       'Total Length of Fwd Packets', 'Total Length of Bwd Packets',\n",
       "       'Fwd Packet Length Max', 'Fwd Packet Length Min',\n",
       "       'Fwd Packet Length Mean', 'Fwd Packet Length Std',\n",
       "       'Bwd Packet Length Max', 'Bwd Packet Length Min',\n",
       "       'Bwd Packet Length Mean', 'Bwd Packet Length Std', 'Flow Bytes/s',\n",
       "       'Flow Packets/s', 'Flow IAT Mean', 'Flow IAT Std', 'Flow IAT Max',\n",
       "       'Flow IAT Min', 'Fwd IAT Total', 'Fwd IAT Mean', 'Fwd IAT Std',\n",
       "       'Fwd IAT Max', 'Fwd IAT Min', 'Bwd IAT Total', 'Bwd IAT Mean',\n",
       "       'Bwd IAT Std', 'Bwd IAT Max', 'Bwd IAT Min', 'Fwd PSH Flags',\n",
       "       'Fwd Header Length', 'Bwd Header Length', 'Fwd Packets/s',\n",
       "       'Bwd Packets/s', 'Min Packet Length', 'Max Packet Length',\n",
       "       'Packet Length Mean', 'Packet Length Std', 'Packet Length Variance',\n",
       "       'FIN Flag Count', 'SYN Flag Count', 'RST Flag Count', 'PSH Flag Count',\n",
       "       'ACK Flag Count', 'URG Flag Count', 'ECE Flag Count', 'Down/Up Ratio',\n",
       "       'Average Packet Size', 'Avg Fwd Segment Size', 'Avg Bwd Segment Size',\n",
       "       'Subflow Fwd Packets', 'Subflow Fwd Bytes', 'Subflow Bwd Packets',\n",
       "       'Subflow Bwd Bytes', 'act_data_pkt_fwd', 'min_seg_size_forward',\n",
       "       'Active Mean', 'Active Std', 'Active Max', 'Active Min', 'Idle Mean',\n",
       "       'Idle Std', 'Idle Max', 'Idle Min', 'Label'],\n",
       "      dtype='object')"
      ]
     },
     "execution_count": 12,
     "metadata": {},
     "output_type": "execute_result"
    }
   ],
   "source": [
    "df.columns"
   ]
  },
  {
   "cell_type": "markdown",
   "metadata": {},
   "source": [
    "Признаки, которые есть в CICIDS2017, но которых нет в тестовой модели"
   ]
  },
  {
   "cell_type": "code",
   "execution_count": 41,
   "metadata": {},
   "outputs": [
    {
     "data": {
      "text/plain": [
       "['Idle Mean',\n",
       " 'Fwd PSH Flags',\n",
       " 'FIN Flag Count',\n",
       " 'Active Mean',\n",
       " 'SYN Flag Count',\n",
       " 'Avg Fwd Segment Size',\n",
       " 'Subflow Fwd Packets',\n",
       " 'Subflow Bwd Bytes',\n",
       " 'PSH Flag Count',\n",
       " 'Active Min',\n",
       " 'Avg Bwd Segment Size',\n",
       " 'Down/Up Ratio',\n",
       " 'Total Backward Packets',\n",
       " 'Idle Min',\n",
       " 'Subflow Bwd Packets',\n",
       " 'min_seg_size_forward',\n",
       " 'Active Max',\n",
       " 'ACK Flag Count',\n",
       " 'ECE Flag Count',\n",
       " 'Idle Max',\n",
       " 'RST Flag Count',\n",
       " 'Subflow Fwd Bytes',\n",
       " 'URG Flag Count',\n",
       " 'Idle Std',\n",
       " 'Active Std',\n",
       " 'act_data_pkt_fwd']"
      ]
     },
     "execution_count": 41,
     "metadata": {},
     "output_type": "execute_result"
    }
   ],
   "source": [
    " list(set(df.columns) - set(df_real.columns))"
   ]
  },
  {
   "cell_type": "markdown",
   "metadata": {},
   "source": [
    "Признаки, которых нет в CICIDS2017, но которые есть в тестовой модели"
   ]
  },
  {
   "cell_type": "code",
   "execution_count": 42,
   "metadata": {},
   "outputs": [
    {
     "data": {
      "text/plain": [
       "['Source IP',\n",
       " 'Flow Key',\n",
       " 'Total Packets',\n",
       " 'Source Port',\n",
       " 'Protocol',\n",
       " 'Flow MB/s',\n",
       " 'Destination IP',\n",
       " 'Average Fwd Segment Size',\n",
       " 'Timestamp',\n",
       " 'Destination Port',\n",
       " 'Average Bwd Segment Size',\n",
       " 'Total Backword Packets',\n",
       " 'Packet Length List']"
      ]
     },
     "execution_count": 42,
     "metadata": {},
     "output_type": "execute_result"
    }
   ],
   "source": [
    " list(set(df_real.columns) - set(df.columns))"
   ]
  },
  {
   "cell_type": "markdown",
   "metadata": {},
   "source": [
    "Общие признаки"
   ]
  },
  {
   "cell_type": "code",
   "execution_count": 62,
   "metadata": {},
   "outputs": [
    {
     "data": {
      "text/plain": [
       "38"
      ]
     },
     "execution_count": 62,
     "metadata": {},
     "output_type": "execute_result"
    }
   ],
   "source": [
    "features = list(set.intersection(set(set(df.columns)), set(set(df_real.columns))))\n",
    "features.remove('Label')\n",
    "len(features)"
   ]
  },
  {
   "cell_type": "code",
   "execution_count": 63,
   "metadata": {},
   "outputs": [
    {
     "name": "stdout",
     "output_type": "stream",
     "text": [
      "(7267, 38) (7267,)\n"
     ]
    }
   ],
   "source": [
    "y = df.Label.astype(\"category\").cat.codes\n",
    "X = df[features]\n",
    "print(X.shape, y.shape)"
   ]
  },
  {
   "cell_type": "markdown",
   "metadata": {},
   "source": [
    "СОХРАНЕНИЕ И НОРМИРОВКА ДАННЫХ"
   ]
  },
  {
   "cell_type": "code",
   "execution_count": 64,
   "metadata": {},
   "outputs": [
    {
     "data": {
      "text/plain": [
       "(Bwd IAT Min                   -1.819887e-15\n",
       " Packet Length Variance        -2.340329e-15\n",
       " Bwd IAT Total                 -1.376634e-15\n",
       " Fwd Packets/s                 -1.264259e-16\n",
       " Flow IAT Mean                 -2.347403e-16\n",
       " Fwd IAT Max                   -7.855741e-17\n",
       " Bwd Header Length              2.366538e-16\n",
       " Packet Length Mean            -3.471635e-15\n",
       " Total Length of Bwd Packets    5.754259e-17\n",
       " Fwd Header Length             -3.158261e-16\n",
       " Total Fwd Packets             -6.986655e-16\n",
       " Bwd Packet Length Std         -1.403079e-15\n",
       " Flow IAT Std                  -3.625481e-15\n",
       " Bwd Packet Length Mean         8.341798e-16\n",
       " Fwd Packet Length Mean        -2.294084e-16\n",
       " Average Packet Size           -3.471315e-15\n",
       " Min Packet Length              4.202164e-15\n",
       " Max Packet Length             -7.897525e-16\n",
       " Bwd Packets/s                 -8.252825e-16\n",
       " Fwd IAT Std                   -9.614498e-16\n",
       " Flow Duration                  4.170784e-18\n",
       " Bwd Packet Length Max         -2.505396e-15\n",
       " Fwd IAT Total                  6.610158e-16\n",
       " Flow Bytes/s                  -4.618714e-16\n",
       " Fwd Packet Length Std         -3.073242e-15\n",
       " Flow IAT Max                   2.261084e-17\n",
       " Total Length of Fwd Packets   -1.718806e-16\n",
       " Packet Length Std             -6.592589e-15\n",
       " Fwd IAT Mean                   3.269100e-16\n",
       " Bwd IAT Mean                  -1.063802e-15\n",
       " Bwd IAT Std                    1.085886e-15\n",
       " Bwd IAT Max                   -9.879946e-16\n",
       " Flow Packets/s                -7.450502e-17\n",
       " Fwd Packet Length Max          6.344863e-16\n",
       " Fwd IAT Min                    3.324329e-16\n",
       " Flow IAT Min                   3.705285e-16\n",
       " Bwd Packet Length Min         -3.305385e-15\n",
       " Fwd Packet Length Min         -2.731191e-15\n",
       " dtype: float64,\n",
       " Bwd IAT Min                    1.0\n",
       " Packet Length Variance         1.0\n",
       " Bwd IAT Total                  1.0\n",
       " Fwd Packets/s                  1.0\n",
       " Flow IAT Mean                  1.0\n",
       " Fwd IAT Max                    1.0\n",
       " Bwd Header Length              1.0\n",
       " Packet Length Mean             1.0\n",
       " Total Length of Bwd Packets    1.0\n",
       " Fwd Header Length              1.0\n",
       " Total Fwd Packets              1.0\n",
       " Bwd Packet Length Std          1.0\n",
       " Flow IAT Std                   1.0\n",
       " Bwd Packet Length Mean         1.0\n",
       " Fwd Packet Length Mean         1.0\n",
       " Average Packet Size            1.0\n",
       " Min Packet Length              1.0\n",
       " Max Packet Length              1.0\n",
       " Bwd Packets/s                  1.0\n",
       " Fwd IAT Std                    1.0\n",
       " Flow Duration                  1.0\n",
       " Bwd Packet Length Max          1.0\n",
       " Fwd IAT Total                  1.0\n",
       " Flow Bytes/s                   1.0\n",
       " Fwd Packet Length Std          1.0\n",
       " Flow IAT Max                   1.0\n",
       " Total Length of Fwd Packets    1.0\n",
       " Packet Length Std              1.0\n",
       " Fwd IAT Mean                   1.0\n",
       " Bwd IAT Mean                   1.0\n",
       " Bwd IAT Std                    1.0\n",
       " Bwd IAT Max                    1.0\n",
       " Flow Packets/s                 1.0\n",
       " Fwd Packet Length Max          1.0\n",
       " Fwd IAT Min                    1.0\n",
       " Flow IAT Min                   1.0\n",
       " Bwd Packet Length Min          1.0\n",
       " Fwd Packet Length Min          1.0\n",
       " dtype: float64)"
      ]
     },
     "execution_count": 64,
     "metadata": {},
     "output_type": "execute_result"
    }
   ],
   "source": [
    "X = ((X-X.mean())/X.std())\n",
    "X.mean(), X.std()"
   ]
  },
  {
   "cell_type": "markdown",
   "metadata": {},
   "source": [
    "Разбивка на тестовую/вал/обуч выборки"
   ]
  },
  {
   "cell_type": "code",
   "execution_count": 65,
   "metadata": {},
   "outputs": [],
   "source": [
    "from sklearn.model_selection import train_test_split\n",
    "X_train, X_test, y_train, y_test = train_test_split(X, y, test_size=0.3, random_state=42, stratify=y)"
   ]
  },
  {
   "cell_type": "code",
   "execution_count": 66,
   "metadata": {},
   "outputs": [
    {
     "name": "stdout",
     "output_type": "stream",
     "text": [
      "(4096, 38) (990, 38)\n"
     ]
    }
   ],
   "source": [
    "X_train, X_val, y_train, y_val = train_test_split(X_train, y_train, train_size=4096, random_state=42, stratify=y_train)\n",
    "print(X_train.shape, X_val.shape)"
   ]
  },
  {
   "cell_type": "markdown",
   "metadata": {},
   "source": [
    "Правильно ли соблюдены пропорции для каждой из выборок"
   ]
  },
  {
   "cell_type": "code",
   "execution_count": 67,
   "metadata": {},
   "outputs": [
    {
     "data": {
      "text/plain": [
       "[array([0.69995117, 0.20751953, 0.00292969, 0.08959961]),\n",
       " array([0.7       , 0.20707071, 0.0030303 , 0.08989899]),\n",
       " array([0.70013755, 0.20724438, 0.00275103, 0.08986703])]"
      ]
     },
     "execution_count": 67,
     "metadata": {},
     "output_type": "execute_result"
    }
   ],
   "source": [
    "y_count = [np.unique(y, return_counts=True)[1] for y in [y_train, y_val, y_test] ]\n",
    "proportions = [a/a.sum() for a in y_count]\n",
    "proportions\n",
    "# np.unique(y_val, return_counts=True)[1], np.unique(y_test, return_counts=True)"
   ]
  },
  {
   "cell_type": "code",
   "execution_count": 68,
   "metadata": {},
   "outputs": [
    {
     "data": {
      "text/html": [
       "<div>\n",
       "<style scoped>\n",
       "    .dataframe tbody tr th:only-of-type {\n",
       "        vertical-align: middle;\n",
       "    }\n",
       "\n",
       "    .dataframe tbody tr th {\n",
       "        vertical-align: top;\n",
       "    }\n",
       "\n",
       "    .dataframe thead th {\n",
       "        text-align: right;\n",
       "    }\n",
       "</style>\n",
       "<table border=\"1\" class=\"dataframe\">\n",
       "  <thead>\n",
       "    <tr style=\"text-align: right;\">\n",
       "      <th></th>\n",
       "      <th>Bwd IAT Min</th>\n",
       "      <th>Packet Length Variance</th>\n",
       "      <th>Bwd IAT Total</th>\n",
       "      <th>Fwd Packets/s</th>\n",
       "      <th>Flow IAT Mean</th>\n",
       "      <th>Fwd IAT Max</th>\n",
       "      <th>Bwd Header Length</th>\n",
       "      <th>Packet Length Mean</th>\n",
       "      <th>Total Length of Bwd Packets</th>\n",
       "      <th>Fwd Header Length</th>\n",
       "      <th>...</th>\n",
       "      <th>Fwd IAT Mean</th>\n",
       "      <th>Bwd IAT Mean</th>\n",
       "      <th>Bwd IAT Std</th>\n",
       "      <th>Bwd IAT Max</th>\n",
       "      <th>Flow Packets/s</th>\n",
       "      <th>Fwd Packet Length Max</th>\n",
       "      <th>Fwd IAT Min</th>\n",
       "      <th>Flow IAT Min</th>\n",
       "      <th>Bwd Packet Length Min</th>\n",
       "      <th>Fwd Packet Length Min</th>\n",
       "    </tr>\n",
       "  </thead>\n",
       "  <tbody>\n",
       "    <tr>\n",
       "      <th>4795</th>\n",
       "      <td>-0.0974</td>\n",
       "      <td>-0.293773</td>\n",
       "      <td>-0.304609</td>\n",
       "      <td>-0.185161</td>\n",
       "      <td>0.205616</td>\n",
       "      <td>0.097172</td>\n",
       "      <td>-0.042216</td>\n",
       "      <td>-0.525794</td>\n",
       "      <td>-0.024329</td>\n",
       "      <td>-0.046245</td>\n",
       "      <td>...</td>\n",
       "      <td>0.08995</td>\n",
       "      <td>-0.156323</td>\n",
       "      <td>-0.223877</td>\n",
       "      <td>-0.225833</td>\n",
       "      <td>-0.202216</td>\n",
       "      <td>-0.36587</td>\n",
       "      <td>-0.098749</td>\n",
       "      <td>-0.041573</td>\n",
       "      <td>-0.544157</td>\n",
       "      <td>-0.518141</td>\n",
       "    </tr>\n",
       "  </tbody>\n",
       "</table>\n",
       "<p>1 rows × 38 columns</p>\n",
       "</div>"
      ],
      "text/plain": [
       "      Bwd IAT Min  Packet Length Variance  Bwd IAT Total  Fwd Packets/s  \\\n",
       "4795      -0.0974               -0.293773      -0.304609      -0.185161   \n",
       "\n",
       "      Flow IAT Mean  Fwd IAT Max  Bwd Header Length  Packet Length Mean  \\\n",
       "4795       0.205616     0.097172          -0.042216           -0.525794   \n",
       "\n",
       "      Total Length of Bwd Packets  Fwd Header Length  ...  Fwd IAT Mean  \\\n",
       "4795                    -0.024329          -0.046245  ...       0.08995   \n",
       "\n",
       "      Bwd IAT Mean  Bwd IAT Std  Bwd IAT Max  Flow Packets/s  \\\n",
       "4795     -0.156323    -0.223877    -0.225833       -0.202216   \n",
       "\n",
       "      Fwd Packet Length Max  Fwd IAT Min  Flow IAT Min  Bwd Packet Length Min  \\\n",
       "4795               -0.36587    -0.098749     -0.041573              -0.544157   \n",
       "\n",
       "      Fwd Packet Length Min  \n",
       "4795              -0.518141  \n",
       "\n",
       "[1 rows x 38 columns]"
      ]
     },
     "execution_count": 68,
     "metadata": {},
     "output_type": "execute_result"
    }
   ],
   "source": [
    "X_train.head(1)"
   ]
  },
  {
   "cell_type": "markdown",
   "metadata": {},
   "source": [
    "Реальные данные"
   ]
  },
  {
   "cell_type": "code",
   "execution_count": 69,
   "metadata": {},
   "outputs": [
    {
     "name": "stdout",
     "output_type": "stream",
     "text": [
      "(1407, 38) (1407,)\n"
     ]
    }
   ],
   "source": [
    "y_real = df_real.Label\n",
    "X_real = df_real[features]\n",
    "print(X_real.shape, y_real.shape)"
   ]
  },
  {
   "cell_type": "code",
   "execution_count": 70,
   "metadata": {},
   "outputs": [
    {
     "data": {
      "text/plain": [
       "(Bwd IAT Min                   -0.085427\n",
       " Packet Length Variance         0.193969\n",
       " Bwd IAT Total                 -0.010453\n",
       " Fwd Packets/s                 -0.178292\n",
       " Flow IAT Mean                  0.175693\n",
       " Fwd IAT Max                   -0.039275\n",
       " Bwd Header Length              0.021730\n",
       " Packet Length Mean             0.488307\n",
       " Total Length of Bwd Packets    0.008164\n",
       " Fwd Header Length             -0.006146\n",
       " Total Fwd Packets              0.011853\n",
       " Bwd Packet Length Std          0.296452\n",
       " Flow IAT Std                  -0.149821\n",
       " Bwd Packet Length Mean         0.349549\n",
       " Fwd Packet Length Mean         0.282716\n",
       " Average Packet Size            0.395465\n",
       " Min Packet Length             -0.452151\n",
       " Max Packet Length              0.168065\n",
       " Bwd Packets/s                 -0.109963\n",
       " Fwd IAT Std                   -0.256956\n",
       " Flow Duration                 -0.001322\n",
       " Bwd Packet Length Max          0.183629\n",
       " Fwd IAT Total                 -0.061357\n",
       " Flow Bytes/s                  -0.039552\n",
       " Fwd Packet Length Std          0.326773\n",
       " Flow IAT Max                   0.060641\n",
       " Total Length of Fwd Packets    0.201883\n",
       " Packet Length Std              0.318875\n",
       " Fwd IAT Mean                  -0.033607\n",
       " Bwd IAT Mean                  -0.088503\n",
       " Bwd IAT Std                    0.091471\n",
       " Bwd IAT Max                    0.058659\n",
       " Flow Packets/s                -0.192934\n",
       " Fwd Packet Length Max          0.181308\n",
       " Fwd IAT Min                    0.059580\n",
       " Flow IAT Min                   0.489277\n",
       " Bwd Packet Length Min         -0.534467\n",
       " Fwd Packet Length Min         -0.390923\n",
       " dtype: float64,\n",
       " Bwd IAT Min                    0.316303\n",
       " Packet Length Variance         0.783639\n",
       " Bwd IAT Total                  0.853159\n",
       " Fwd Packets/s                  0.037438\n",
       " Flow IAT Mean                  2.290312\n",
       " Fwd IAT Max                    1.040111\n",
       " Bwd Header Length              0.465201\n",
       " Packet Length Mean             1.599348\n",
       " Total Length of Bwd Packets    0.244724\n",
       " Fwd Header Length              0.240596\n",
       " Total Fwd Packets              0.252165\n",
       " Bwd Packet Length Std          1.056845\n",
       " Flow IAT Std                   0.608691\n",
       " Bwd Packet Length Mean         1.413386\n",
       " Fwd Packet Length Mean         1.254750\n",
       " Average Packet Size            1.522293\n",
       " Min Packet Length              0.107742\n",
       " Max Packet Length              0.884702\n",
       " Bwd Packets/s                  0.117029\n",
       " Fwd IAT Std                    0.910806\n",
       " Flow Duration                  0.878281\n",
       " Bwd Packet Length Max          0.917912\n",
       " Fwd IAT Total                  0.866739\n",
       " Flow Bytes/s                   0.002609\n",
       " Fwd Packet Length Std          1.090266\n",
       " Flow IAT Max                   1.093159\n",
       " Total Length of Fwd Packets    1.422616\n",
       " Packet Length Std              1.185634\n",
       " Fwd IAT Mean                   1.033941\n",
       " Bwd IAT Mean                   0.339712\n",
       " Bwd IAT Std                    0.973610\n",
       " Bwd IAT Max                    0.918212\n",
       " Flow Packets/s                 0.057569\n",
       " Fwd Packet Length Max          0.934863\n",
       " Fwd IAT Min                    1.047806\n",
       " Flow IAT Min                   3.599581\n",
       " Bwd Packet Length Min          0.023329\n",
       " Fwd Packet Length Min          0.152309\n",
       " dtype: float64)"
      ]
     },
     "execution_count": 70,
     "metadata": {},
     "output_type": "execute_result"
    }
   ],
   "source": [
    "X = df[features]\n",
    "X_real = ((X_real-X.mean())/X.std())\n",
    "X_real.mean(), X_real.std()"
   ]
  },
  {
   "cell_type": "markdown",
   "metadata": {},
   "source": [
    "Сохранение данных"
   ]
  },
  {
   "cell_type": "code",
   "execution_count": null,
   "metadata": {},
   "outputs": [],
   "source": [
    "from pathlib import Path\n",
    "DATASET = 'cicids2017_webattacks_realdata'\n",
    "filepath = '/home/student/projects/data/' + DATASET +'/'\n",
    "Path(filepath).mkdir(parents=True, exist_ok=True)\n",
    "np.save(filepath + 'data-train',np.c_[X_train, y_train])\n",
    "np.save(filepath + 'data-val',np.c_[X_val, y_val])\n",
    "np.save(filepath + 'data-test',np.c_[X_test, y_test])\n",
    "np.save(filepath + 'data-real',np.c_[X_real, y_real])"
   ]
  },
  {
   "cell_type": "code",
   "execution_count": 72,
   "metadata": {},
   "outputs": [
    {
     "data": {
      "text/plain": [
       "[4096, 990, 2181, 1407]"
      ]
     },
     "execution_count": 72,
     "metadata": {},
     "output_type": "execute_result"
    }
   ],
   "source": [
    "[len(y) for y in [y_train, y_val, y_test, y_real]] "
   ]
  },
  {
   "cell_type": "code",
   "execution_count": 73,
   "metadata": {},
   "outputs": [
    {
     "data": {
      "text/plain": [
       "[4096, 990, 2181, 1407]"
      ]
     },
     "execution_count": 73,
     "metadata": {},
     "output_type": "execute_result"
    }
   ],
   "source": [
    "[len(x) for x in [X_train, X_val, X_test, X_real]] "
   ]
  },
  {
   "cell_type": "code",
   "execution_count": 74,
   "metadata": {},
   "outputs": [
    {
     "data": {
      "text/plain": [
       "{0: 'BENIGN',\n",
       " 1: 'Web Attack � Brute Force',\n",
       " 2: 'Web Attack � Sql Injection',\n",
       " 3: 'Web Attack � XSS'}"
      ]
     },
     "execution_count": 74,
     "metadata": {},
     "output_type": "execute_result"
    }
   ],
   "source": [
    "dict( enumerate(pd.Categorical(df.Label).categories ) )"
   ]
  },
  {
   "cell_type": "code",
   "execution_count": 75,
   "metadata": {},
   "outputs": [
    {
     "data": {
      "text/plain": [
       "{0: 'Bwd IAT Min',\n",
       " 1: 'Packet Length Variance',\n",
       " 2: 'Bwd IAT Total',\n",
       " 3: 'Fwd Packets/s',\n",
       " 4: 'Flow IAT Mean',\n",
       " 5: 'Fwd IAT Max',\n",
       " 6: 'Bwd Header Length',\n",
       " 7: 'Packet Length Mean',\n",
       " 8: 'Total Length of Bwd Packets',\n",
       " 9: 'Fwd Header Length',\n",
       " 10: 'Total Fwd Packets',\n",
       " 11: 'Bwd Packet Length Std',\n",
       " 12: 'Flow IAT Std',\n",
       " 13: 'Bwd Packet Length Mean',\n",
       " 14: 'Fwd Packet Length Mean',\n",
       " 15: 'Average Packet Size',\n",
       " 16: 'Min Packet Length',\n",
       " 17: 'Max Packet Length',\n",
       " 18: 'Bwd Packets/s',\n",
       " 19: 'Fwd IAT Std',\n",
       " 20: 'Flow Duration',\n",
       " 21: 'Bwd Packet Length Max',\n",
       " 22: 'Fwd IAT Total',\n",
       " 23: 'Flow Bytes/s',\n",
       " 24: 'Fwd Packet Length Std',\n",
       " 25: 'Flow IAT Max',\n",
       " 26: 'Total Length of Fwd Packets',\n",
       " 27: 'Packet Length Std',\n",
       " 28: 'Fwd IAT Mean',\n",
       " 29: 'Bwd IAT Mean',\n",
       " 30: 'Bwd IAT Std',\n",
       " 31: 'Bwd IAT Max',\n",
       " 32: 'Flow Packets/s',\n",
       " 33: 'Fwd Packet Length Max',\n",
       " 34: 'Fwd IAT Min',\n",
       " 35: 'Flow IAT Min',\n",
       " 36: 'Bwd Packet Length Min',\n",
       " 37: 'Fwd Packet Length Min'}"
      ]
     },
     "execution_count": 75,
     "metadata": {},
     "output_type": "execute_result"
    }
   ],
   "source": [
    "dict( enumerate(features ) )"
   ]
  }
 ],
 "metadata": {
  "kernelspec": {
   "display_name": "Python 3 (ipykernel)",
   "language": "python",
   "name": "python3"
  },
  "language_info": {
   "codemirror_mode": {
    "name": "ipython",
    "version": 3
   },
   "file_extension": ".py",
   "mimetype": "text/x-python",
   "name": "python",
   "nbconvert_exporter": "python",
   "pygments_lexer": "ipython3",
   "version": "3.9.7"
  }
 },
 "nbformat": 4,
 "nbformat_minor": 4
}

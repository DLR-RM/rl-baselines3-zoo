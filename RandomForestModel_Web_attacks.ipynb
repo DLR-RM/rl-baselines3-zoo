{
 "cells": [
  {
   "cell_type": "code",
   "execution_count": null,
   "metadata": {},
   "outputs": [],
   "source": [
    "import pandas as pd\n",
    "import numpy as np\n",
    "from sklearn import preprocessing\n",
    "import matplotlib.pyplot as plt\n",
    "%matplotlib inline\n",
    "\n",
    "import random\n",
    "from sklearn.model_selection import train_test_split"
   ]
  },
  {
   "cell_type": "code",
   "execution_count": 19,
   "metadata": {
    "id": "qiYFzlGkkSXe"
   },
   "outputs": [],
   "source": [
    "df_balanced.to_csv(\"web_attacks_balanced.csv\", index=False)"
   ]
  },
  {
   "cell_type": "markdown",
   "metadata": {
    "id": "-IEyQxBDt5sG"
   },
   "source": [
    "### Preparing data for training"
   ]
  },
  {
   "cell_type": "markdown",
   "metadata": {
    "id": "1k2G5UAEt9cw"
   },
   "source": [
    "7 features (Flow ID, Source IP, Source Port, Destination IP, Destination Port, Protocol, Timestamp) are excluded from the dataset. The hypothesis is that the \"shape\" of the data being transmitted is more important than these attributes. In addition, ports and addresses can be substituted by an attacker, so it is better that the ML algorithm does not take these features into account in training [Kostas2018]."
   ]
  },
  {
   "cell_type": "code",
   "execution_count": 20,
   "metadata": {
    "id": "8yza95R2t_1N"
   },
   "outputs": [],
   "source": [
    "df = pd.read_csv('web_attacks_balanced.csv')\n",
    "excluded = ['Flow ID', 'Source IP', 'Source Port', 'Destination IP', 'Destination Port', 'Protocol', 'Timestamp']\n",
    "df = df.drop(columns=excluded)"
   ]
  },
  {
   "cell_type": "markdown",
   "metadata": {
    "id": "eCxptOz2uDIV"
   },
   "source": [
    "Below at the stage of importance estimation the \"Init_Win_bytes_backward\" feature has the maximum value. After viewing the source dataset, it seems that an inaccuracy was made in forming the dataset. \n",
    "\n",
    "It turns out that it is possible to make a fairly accurate classification by one feature.\n",
    "\n",
    "Description of features: http://www.netflowmeter.ca/netflowmeter.html\n",
    "\n",
    "     Init_Win_bytes_backward - The total number of bytes sent in initial window in the backward direction\n",
    "     Init_Win_bytes_forward - The total number of bytes sent in initial window in the forward direction"
   ]
  },
  {
   "cell_type": "code",
   "execution_count": 21,
   "metadata": {
    "colab": {
     "base_uri": "https://localhost:8080/",
     "height": 295
    },
    "id": "lYhtGKqJuUQA",
    "outputId": "2ca17c8e-0027-406b-8919-773508351b48"
   },
   "outputs": [
    {
     "data": {
      "image/png": "[encoded data removed]",
      "text/plain": [
       "<Figure size 432x288 with 1 Axes>"
      ]
     },
     "metadata": {
      "needs_background": "light"
     },
     "output_type": "display_data"
    }
   ],
   "source": [
    "if 'Init_Win_bytes_backward' in df.columns:\n",
    "    df['Init_Win_bytes_backward'].hist(figsize=(6,4), bins=10);\n",
    "    plt.title(\"Init_Win_bytes_backward\")\n",
    "    plt.xlabel(\"Value bins\")\n",
    "    plt.ylabel(\"Density\")\n",
    "    plt.savefig('Init_Win_bytes_backward.png', dpi=300)"
   ]
  },
  {
   "cell_type": "code",
   "execution_count": 22,
   "metadata": {
    "colab": {
     "base_uri": "https://localhost:8080/",
     "height": 295
    },
    "id": "XPbBcbj_uYMV",
    "outputId": "23fbb419-3cb7-482a-93b9-c7974ffdeccf"
   },
   "outputs": [
    {
     "data": {
      "image/png": "[encoded data removed]",
      "text/plain": [
       "<Figure size 432x288 with 1 Axes>"
      ]
     },
     "metadata": {
      "needs_background": "light"
     },
     "output_type": "display_data"
    }
   ],
   "source": [
    "if 'Init_Win_bytes_forward' in df.columns:\n",
    "    df['Init_Win_bytes_forward'].hist(figsize=(6,4), bins=10);\n",
    "    plt.title(\"Init_Win_bytes_forward\")\n",
    "    plt.xlabel(\"Value bins\")\n",
    "    plt.ylabel(\"Density\")\n",
    "    plt.savefig('Init_Win_bytes_forward.png', dpi=300)"
   ]
  },
  {
   "cell_type": "code",
   "execution_count": 23,
   "metadata": {
    "id": "Uw6liMMducM5"
   },
   "outputs": [],
   "source": [
    "excluded2 = ['Init_Win_bytes_backward', 'Init_Win_bytes_forward']\n",
    "df = df.drop(columns=excluded2)"
   ]
  },
  {
   "cell_type": "markdown",
   "metadata": {
    "id": "mY251UVouePR"
   },
   "source": [
    "The Label column is encoded as follows: \"BENIGN\" = 0, attack = 1."
   ]
  },
  {
   "cell_type": "code",
   "execution_count": 24,
   "metadata": {
    "colab": {
     "base_uri": "https://localhost:8080/"
    },
    "id": "a-FDOBmOufo6",
    "outputId": "ae93c536-33e1-401c-ec07-e8f09da3d202"
   },
   "outputs": [
    {
     "name": "stdout",
     "output_type": "stream",
     "text": [
      "(7267, 74) (7267,)\n"
     ]
    }
   ],
   "source": [
    "df['Label'] = df['Label'].apply(lambda x: 0 if x == 'BENIGN' else 1)\n",
    "y = df['Label'].values\n",
    "X = df.drop(columns=['Label'])\n",
    "print(X.shape, y.shape)"
   ]
  },
  {
   "cell_type": "markdown",
   "metadata": {
    "id": "3P69z9kfupES"
   },
   "source": [
    "## Feature importance"
   ]
  },
  {
   "cell_type": "code",
   "execution_count": 25,
   "metadata": {
    "colab": {
     "base_uri": "https://localhost:8080/",
     "height": 34
    },
    "id": "4BbvfnjTuzeX",
    "outputId": "55719ff0-84a0-4568-ebda-df2f479bc71c"
   },
   "outputs": [
    {
     "data": {
      "text/plain": [
       "{0: 3575, 1: 1511}"
      ]
     },
     "execution_count": 25,
     "metadata": {},
     "output_type": "execute_result"
    }
   ],
   "source": [
    "from sklearn.model_selection import train_test_split\n",
    "X_train, X_test, y_train, y_test = train_test_split(X, y, test_size=0.3, random_state=42)\n",
    "\n",
    "unique, counts = np.unique(y_train, return_counts=True)\n",
    "dict(zip(unique, counts))"
   ]
  },
  {
   "cell_type": "markdown",
   "metadata": {
    "id": "wE4AwrX1u6Hj"
   },
   "source": [
    "### Visualization of the decision tree, importance evaluation using a single tree (DecisionTreeClassifier)\n",
    " \n",
    "In the beginning we use one tree - for the convenience of visualization of the classifier. High cross-validation scores even with 5 leaves look suspiciously good, we should look at the data carefully. Parameters for change - test_size in the cell above (train_test_split), max_leaf_nodes in the cell below.\n",
    " \n",
    "By changing the **random_state** parameter, we will get different trees and different features with the highest importance. But the forest will already average individual trees below."
   ]
  },
  {
   "cell_type": "code",
   "execution_count": 26,
   "metadata": {
    "colab": {
     "base_uri": "https://localhost:8080/",
     "height": 51
    },
    "id": "JtVUvneuyAeI",
    "outputId": "582feeb2-a10f-4615-d3a7-74b734cddaf2"
   },
   "outputs": [
    {
     "data": {
      "text/plain": [
       "array([0.96267191, 0.96463654, 0.96070727, 0.95284872, 0.94499018,\n",
       "       0.956778  , 0.95866142, 0.95275591, 0.96456693, 0.96259843])"
      ]
     },
     "execution_count": 26,
     "metadata": {},
     "output_type": "execute_result"
    }
   ],
   "source": [
    "from sklearn.model_selection import cross_val_score\n",
    "from sklearn.tree import DecisionTreeClassifier\n",
    "decision_tree = DecisionTreeClassifier(max_leaf_nodes=5, random_state=0)\n",
    "decision_tree = decision_tree.fit(X_train, y_train)\n",
    "cross_val_score(decision_tree, X_train, y_train, cv=10)"
   ]
  },
  {
   "cell_type": "code",
   "execution_count": 27,
   "metadata": {
    "colab": {
     "base_uri": "https://localhost:8080/",
     "height": 255
    },
    "id": "cITpkfwyCqqU",
    "outputId": "d8120dd9-fc45-4746-b25d-cc488863c6e8"
   },
   "outputs": [
    {
     "name": "stdout",
     "output_type": "stream",
     "text": [
      "|--- Packet Length Mean <= 0.86\n",
      "|   |--- Fwd IAT Std <= 2453677.25\n",
      "|   |   |--- Bwd Packets/s <= 8889.06\n",
      "|   |   |   |--- class: 0\n",
      "|   |   |--- Bwd Packets/s >  8889.06\n",
      "|   |   |   |--- class: 0\n",
      "|   |--- Fwd IAT Std >  2453677.25\n",
      "|   |   |--- class: 1\n",
      "|--- Packet Length Mean >  0.86\n",
      "|   |--- Subflow Fwd Bytes <= 34327.50\n",
      "|   |   |--- class: 0\n",
      "|   |--- Subflow Fwd Bytes >  34327.50\n",
      "|   |   |--- class: 1\n",
      "\n"
     ]
    }
   ],
   "source": [
    "from sklearn.tree import export_text\n",
    "r = export_text(decision_tree, feature_names=X_train.columns.to_list())\n",
    "print(r)"
   ]
  },
  {
   "cell_type": "markdown",
   "metadata": {
    "id": "b99AtZuj-NR8"
   },
   "source": [
    "Analyze the confusion matrix. Which classes are confidently classified by the model?"
   ]
  },
  {
   "cell_type": "code",
   "execution_count": 28,
   "metadata": {
    "colab": {
     "base_uri": "https://localhost:8080/",
     "height": 34
    },
    "id": "-7IrLSAx-PuK",
    "outputId": "e54c7989-2a1b-4054-e384-c42dd3c74d3f"
   },
   "outputs": [
    {
     "data": {
      "text/plain": [
       "{0: 1512, 1: 669}"
      ]
     },
     "execution_count": 28,
     "metadata": {},
     "output_type": "execute_result"
    }
   ],
   "source": [
    "unique, counts = np.unique(y_test, return_counts=True)\n",
    "dict(zip(unique, counts))"
   ]
  },
  {
   "cell_type": "code",
   "execution_count": 29,
   "metadata": {
    "colab": {
     "base_uri": "https://localhost:8080/",
     "height": 51
    },
    "id": "a9iK4zQt-SlP",
    "outputId": "256f6c4d-1123-4a97-dae1-b5a34ca0c29f"
   },
   "outputs": [
    {
     "data": {
      "text/plain": [
       "array([[1504,    8],\n",
       "       [  88,  581]])"
      ]
     },
     "execution_count": 29,
     "metadata": {},
     "output_type": "execute_result"
    }
   ],
   "source": [
    "from sklearn.metrics import confusion_matrix\n",
    "y_pred = decision_tree.predict(X_test)\n",
    "confusion_matrix(y_test, y_pred)"
   ]
  },
  {
   "cell_type": "markdown",
   "metadata": {
    "id": "suPDWnoYaEPD"
   },
   "source": [
    "### Importance evaluation using SelectFromModel (still one decision tree)\n",
    "\n",
    "Source: https://github.com/oreilly-mlsec/book-resources/blob/master/chapter2/select-from-model-nslkdd.ipynb"
   ]
  },
  {
   "cell_type": "code",
   "execution_count": 30,
   "metadata": {
    "colab": {
     "base_uri": "https://localhost:8080/",
     "height": 272
    },
    "id": "hm7PM7f_aRei",
    "outputId": "c6023813-4233-4b05-d889-98a617b21b55"
   },
   "outputs": [
    {
     "data": {
      "text/plain": [
       "array([0.        , 0.        , 0.        , 0.        , 0.        ,\n",
       "       0.        , 0.        , 0.        , 0.        , 0.        ,\n",
       "       0.        , 0.        , 0.        , 0.        , 0.        ,\n",
       "       0.        , 0.        , 0.        , 0.        , 0.        ,\n",
       "       0.        , 0.19099051, 0.        , 0.        , 0.        ,\n",
       "       0.        , 0.        , 0.        , 0.        , 0.        ,\n",
       "       0.        , 0.        , 0.        , 0.        , 0.        ,\n",
       "       0.        , 0.01898816, 0.        , 0.        , 0.7325242 ,\n",
       "       0.        , 0.        , 0.        , 0.        , 0.        ,\n",
       "       0.        , 0.        , 0.        , 0.        , 0.        ,\n",
       "       0.        , 0.        , 0.        , 0.        , 0.        ,\n",
       "       0.        , 0.        , 0.        , 0.        , 0.        ,\n",
       "       0.        , 0.05749714, 0.        , 0.        , 0.        ,\n",
       "       0.        , 0.        , 0.        , 0.        , 0.        ,\n",
       "       0.        , 0.        , 0.        , 0.        ])"
      ]
     },
     "execution_count": 30,
     "metadata": {},
     "output_type": "execute_result"
    }
   ],
   "source": [
    "from sklearn.feature_selection import SelectFromModel\n",
    "sfm = SelectFromModel(estimator=decision_tree).fit(X_train, y_train)\n",
    "sfm.estimator_.feature_importances_"
   ]
  },
  {
   "cell_type": "code",
   "execution_count": 31,
   "metadata": {
    "colab": {
     "base_uri": "https://localhost:8080/",
     "height": 34
    },
    "id": "Y0Sx8yJ_aW33",
    "outputId": "3a4f5abf-92b5-429c-e3c5-a28dbe0be19e"
   },
   "outputs": [
    {
     "data": {
      "text/plain": [
       "0.013513513513513514"
      ]
     },
     "execution_count": 31,
     "metadata": {},
     "output_type": "execute_result"
    }
   ],
   "source": [
    "sfm.threshold_"
   ]
  },
  {
   "cell_type": "code",
   "execution_count": 32,
   "metadata": {
    "colab": {
     "base_uri": "https://localhost:8080/",
     "height": 34
    },
    "id": "4iNlo5jIaaaL",
    "outputId": "d3683bfc-289b-414f-acec-eb6a60c1b09e"
   },
   "outputs": [
    {
     "name": "stdout",
     "output_type": "stream",
     "text": [
      "Original num features: 74, selected num features: 4\n"
     ]
    }
   ],
   "source": [
    "X_train_new = sfm.transform(X_train)\n",
    "print(\"Original num features: {}, selected num features: {}\"\n",
    "      .format(X_train.shape[1], X_train_new.shape[1]))"
   ]
  },
  {
   "cell_type": "code",
   "execution_count": 33,
   "metadata": {
    "colab": {
     "base_uri": "https://localhost:8080/",
     "height": 187
    },
    "id": "aBQxtLAwaegL",
    "outputId": "2c75fc3c-35e2-4532-fe8f-69fe909869df"
   },
   "outputs": [
    {
     "name": "stdout",
     "output_type": "stream",
     "text": [
      "0.\tPacket Length Mean - 0.7325242036208035\n",
      "1.\tFwd IAT Std - 0.19099050509307136\n",
      "2.\tSubflow Fwd Bytes - 0.05749713616028083\n",
      "3.\tBwd Packets/s - 0.018988155125844283\n",
      "4.\tBwd IAT Std - 0.0\n",
      "5.\tFwd IAT Mean - 0.0\n",
      "6.\tFwd IAT Max - 0.0\n",
      "7.\tFwd IAT Min - 0.0\n",
      "8.\tBwd IAT Total - 0.0\n",
      "9.\tBwd IAT Mean - 0.0\n"
     ]
    }
   ],
   "source": [
    "indices = np.argsort(decision_tree.feature_importances_)[::-1]\n",
    "for idx, i in enumerate(indices[:10]):\n",
    "    print(\"{}.\\t{} - {}\".format(idx, X_train.columns[i], decision_tree.feature_importances_[i]))"
   ]
  },
  {
   "cell_type": "markdown",
   "metadata": {
    "id": "duGKUsAzal52"
   },
   "source": [
    "### Evaluation of importance using RandomForestClassifier.feature_importances_ (move from one tree to a random forest, classification quality increases)"
   ]
  },
  {
   "cell_type": "code",
   "execution_count": 34,
   "metadata": {
    "colab": {
     "base_uri": "https://localhost:8080/",
     "height": 68
    },
    "id": "xo4E_wFeaqNd",
    "outputId": "1f00d02b-5dc1-47eb-8c5f-47a76b077109"
   },
   "outputs": [
    {
     "name": "stdout",
     "output_type": "stream",
     "text": [
      "R^2 Training Score: 0.99 \n",
      "R^2 Validation Score: 0.98 \n",
      "Out-of-bag Score: 0.98\n"
     ]
    }
   ],
   "source": [
    "from sklearn.ensemble import RandomForestClassifier\n",
    "\n",
    "rf = RandomForestClassifier(n_estimators=250, random_state=42, oob_score=True)\n",
    "rf.fit(X_train, y_train)\n",
    "# Score = mean accuracy on the given test data and labels\n",
    "print('R^2 Training Score: {:.2f} \\nR^2 Validation Score: {:.2f} \\nOut-of-bag Score: {:.2f}'\n",
    "      .format(rf.score(X_train, y_train), rf.score(X_test, y_test), rf.oob_score_))"
   ]
  },
  {
   "cell_type": "code",
   "execution_count": 35,
   "metadata": {
    "colab": {
     "base_uri": "https://localhost:8080/",
     "height": 357
    },
    "id": "byV6krktawE_",
    "outputId": "b43f9da0-593c-4ec1-f993-d61d78a65706"
   },
   "outputs": [
    {
     "name": "stdout",
     "output_type": "stream",
     "text": [
      "#13\t0.087\tFlow Bytes/s\n",
      "#51\t0.086\tAverage Packet Size\n",
      "#39\t0.061\tPacket Length Mean\n",
      "#38\t0.059\tMax Packet Length\n",
      "#7\t0.055\tFwd Packet Length Mean\n",
      "#23\t0.053\tFwd IAT Min\n",
      "#61\t0.049\tSubflow Fwd Bytes\n",
      "#52\t0.048\tAvg Fwd Segment Size\n",
      "#3\t0.042\tTotal Length of Fwd Packets\n",
      "#15\t0.034\tFlow IAT Mean\n",
      "#21\t0.030\tFwd IAT Std\n",
      "#33\t0.029\tFwd Header Length\n",
      "#5\t0.028\tFwd Packet Length Max\n",
      "#16\t0.024\tFlow IAT Std\n",
      "#0\t0.023\tFlow Duration\n",
      "#14\t0.023\tFlow Packets/s\n",
      "#22\t0.021\tFwd IAT Max\n",
      "#35\t0.020\tFwd Packets/s\n",
      "#19\t0.018\tFwd IAT Total\n",
      "#17\t0.017\tFlow IAT Max\n"
     ]
    }
   ],
   "source": [
    "features = X.columns\n",
    "importances = rf.feature_importances_\n",
    "indices = np.argsort(importances)[::-1]\n",
    "\n",
    "for i in indices[:20]:\n",
    "    print('#{}\\t{:.3f}\\t{}'.format(i, importances[i], features[i]))"
   ]
  },
  {
   "cell_type": "markdown",
   "metadata": {
    "id": "3RXQUuqHa11b"
   },
   "source": [
    "For comparison, the results of the study [Sharafaldin2018] (compare relatively, without taking into account the multiplier):\n",
    " \n",
    "* Init Win F.Bytes 0.0200\n",
    "* Subflow F.Bytes 0.0145\n",
    "* Init Win B.Bytes 0.0129\n",
    "* Total Len F.Packets 0.0096\n",
    "\n",
    "And incorrect results [Kostas2018] (error was found in assessing the importance of features, line: *impor_bars = pd.DataFrame({'Features':refclasscol[0:20],'importance':importances[0:20]})*, the importances[0:20] sample does not take into account that the values are not sorted in descending order):\n",
    " \n",
    "* Flow Bytes/s 0.313402\n",
    "* Total Length of Fwd Packets 0.304917\n",
    "* Flow Duration 0.000485\n",
    "* Fwd Packet Length Max 0.00013"
   ]
  },
  {
   "cell_type": "code",
   "execution_count": 36,
   "metadata": {
    "colab": {
     "base_uri": "https://localhost:8080/",
     "height": 513
    },
    "id": "TPxzWeP4bHa5",
    "outputId": "5815f66e-3b0e-4c06-a7d6-6c0b1a49b59d"
   },
   "outputs": [
    {
     "data": {
      "image/png": "[encoded data removed]",
      "text/plain": [
       "<Figure size 1440x576 with 1 Axes>"
      ]
     },
     "metadata": {
      "needs_background": "light"
     },
     "output_type": "display_data"
    }
   ],
   "source": [
    "indices = np.argsort(importances)[-20:]\n",
    "plt.rcParams['figure.figsize'] = (20, 8)\n",
    "plt.title('Feature Importances')\n",
    "plt.barh(range(len(indices)), importances[indices], color='b', align='center')\n",
    "plt.yticks(range(len(indices)), [features[i] for i in indices])\n",
    "plt.xlabel('Relative Importance')\n",
    "plt.grid()\n",
    "plt.savefig('feature_importances.png', dpi=300)\n",
    "plt.show()"
   ]
  },
  {
   "cell_type": "markdown",
   "metadata": {
    "id": "p4Dr0x5ZbLgU"
   },
   "source": [
    "Make sure that SelectFromModel shows the same results."
   ]
  },
  {
   "cell_type": "code",
   "execution_count": 37,
   "metadata": {
    "colab": {
     "base_uri": "https://localhost:8080/",
     "height": 340
    },
    "id": "WIHBbt1AbORu",
    "outputId": "32858421-b089-4aef-fdbd-88e0f23f70fe"
   },
   "outputs": [
    {
     "data": {
      "text/plain": [
       "array([2.30389501e-02, 9.55527717e-03, 3.51278692e-03, 4.23959829e-02,\n",
       "       6.49436307e-03, 2.84865584e-02, 1.58938645e-04, 5.54278766e-02,\n",
       "       4.72614485e-03, 3.00795152e-03, 2.46639450e-04, 2.15631753e-03,\n",
       "       1.63168975e-03, 8.68742430e-02, 2.30055271e-02, 3.40793127e-02,\n",
       "       2.40848491e-02, 1.73717590e-02, 1.33065122e-02, 1.76826901e-02,\n",
       "       1.63579513e-02, 3.02554689e-02, 2.08701979e-02, 5.33217310e-02,\n",
       "       4.39680736e-03, 2.83001761e-03, 2.18206449e-03, 2.46353431e-03,\n",
       "       3.75613088e-03, 0.00000000e+00, 0.00000000e+00, 0.00000000e+00,\n",
       "       0.00000000e+00, 2.88523095e-02, 1.72811951e-02, 2.02120100e-02,\n",
       "       1.09809813e-02, 2.90142706e-04, 5.90597532e-02, 6.07393524e-02,\n",
       "       5.14903800e-03, 5.58419809e-03, 0.00000000e+00, 0.00000000e+00,\n",
       "       0.00000000e+00, 9.64485565e-03, 1.25604426e-02, 3.84288506e-03,\n",
       "       0.00000000e+00, 0.00000000e+00, 8.80863725e-04, 8.59384500e-02,\n",
       "       4.78404621e-02, 3.47266236e-03, 0.00000000e+00, 0.00000000e+00,\n",
       "       0.00000000e+00, 0.00000000e+00, 0.00000000e+00, 0.00000000e+00,\n",
       "       8.66666715e-03, 4.89927323e-02, 3.95544091e-03, 3.31553435e-03,\n",
       "       1.20042899e-02, 3.28541250e-03, 2.86916914e-03, 5.38887973e-05,\n",
       "       8.30274378e-04, 1.59754763e-03, 2.79886804e-03, 8.22281730e-05,\n",
       "       1.18018852e-03, 4.35988277e-03])"
      ]
     },
     "execution_count": 37,
     "metadata": {},
     "output_type": "execute_result"
    }
   ],
   "source": [
    "sfm = SelectFromModel(estimator=rf).fit(X_train, y_train)\n",
    "sfm.estimator_.feature_importances_"
   ]
  },
  {
   "cell_type": "code",
   "execution_count": 38,
   "metadata": {
    "colab": {
     "base_uri": "https://localhost:8080/",
     "height": 34
    },
    "id": "34H0r3mWbUQY",
    "outputId": "8e1babff-505e-4579-bd2e-da302b95ee51"
   },
   "outputs": [
    {
     "name": "stdout",
     "output_type": "stream",
     "text": [
      "Original num features: 74, selected num features: 22\n"
     ]
    }
   ],
   "source": [
    "X_train_new = sfm.transform(X_train)\n",
    "print(\"Original num features: {}, selected num features: {}\"\n",
    "      .format(X_train.shape[1], X_train_new.shape[1]))"
   ]
  },
  {
   "cell_type": "code",
   "execution_count": 39,
   "metadata": {
    "colab": {
     "base_uri": "https://localhost:8080/",
     "height": 357
    },
    "id": "Po-9BPKYbX3S",
    "outputId": "16572161-555c-4cce-e856-ffbf7dd50dde"
   },
   "outputs": [
    {
     "name": "stdout",
     "output_type": "stream",
     "text": [
      "0.\tFlow Bytes/s - 0.08687424301815491\n",
      "1.\tAverage Packet Size - 0.08593844995835177\n",
      "2.\tPacket Length Mean - 0.060739352370688136\n",
      "3.\tMax Packet Length - 0.05905975315149098\n",
      "4.\tFwd Packet Length Mean - 0.055427876589689715\n",
      "5.\tFwd IAT Min - 0.05332173103289086\n",
      "6.\tSubflow Fwd Bytes - 0.048992732318333405\n",
      "7.\tAvg Fwd Segment Size - 0.047840462053264574\n",
      "8.\tTotal Length of Fwd Packets - 0.04239598286137619\n",
      "9.\tFlow IAT Mean - 0.03407931269519242\n",
      "10.\tFwd IAT Std - 0.030255468866471444\n",
      "11.\tFwd Header Length - 0.028852309487894016\n",
      "12.\tFwd Packet Length Max - 0.02848655836744046\n",
      "13.\tFlow IAT Std - 0.024084849091825095\n",
      "14.\tFlow Duration - 0.02303895007761567\n",
      "15.\tFlow Packets/s - 0.023005527136492315\n",
      "16.\tFwd IAT Max - 0.020870197907981718\n",
      "17.\tFwd Packets/s - 0.02021201004619953\n",
      "18.\tFwd IAT Total - 0.017682690075573687\n",
      "19.\tFlow IAT Max - 0.01737175896611022\n"
     ]
    }
   ],
   "source": [
    "indices = np.argsort(rf.feature_importances_)[::-1]\n",
    "webattack_features = []\n",
    "for idx, i in enumerate(indices):\n",
    "    webattack_features.append(X_train.columns[i])\n",
    "    if idx < 20:\n",
    "        print(\"{}.\\t{} - {}\".format(idx, X_train.columns[i], rf.feature_importances_[i]))"
   ]
  },
  {
   "cell_type": "markdown",
   "metadata": {
    "id": "1Ai-mjE_cYTK"
   },
   "source": [
    "Once again we analyze the confusion matrix, now for a higher quality classifier. A random forest also badly distinguishes between separate attack classes (\"Web Attack – XSS\" is very similar to \"Web Attack – Brute Force\"). At the same time, the \"BENIGN\" class is well separated from the others.\n",
    " \n",
    "If we combine different attack classes into one \"web attack\" class, the resulting binary classifier will show high quality."
   ]
  },
  {
   "cell_type": "code",
   "execution_count": 40,
   "metadata": {
    "colab": {
     "base_uri": "https://localhost:8080/",
     "height": 51
    },
    "id": "QaYCrMC4cenU",
    "outputId": "da62ba7e-d7af-41e8-d9a9-0fab415eba7e"
   },
   "outputs": [
    {
     "data": {
      "text/plain": [
       "array([[1493,   19],\n",
       "       [  31,  638]])"
      ]
     },
     "execution_count": 40,
     "metadata": {},
     "output_type": "execute_result"
    }
   ],
   "source": [
    "y_pred = rf.predict(X_test)\n",
    "confusion_matrix(y_test, y_pred)"
   ]
  },
  {
   "cell_type": "markdown",
   "metadata": {
    "id": "ktl5y47rcsiy"
   },
   "source": [
    "Next, for experiments, we keep the first max_features of features with maximum importance."
   ]
  },
  {
   "cell_type": "code",
   "execution_count": 41,
   "metadata": {
    "colab": {
     "base_uri": "https://localhost:8080/",
     "height": 357
    },
    "id": "Xriaa8XicuoB",
    "outputId": "8a171904-2d66-4d5f-b0e3-3f549f383cdc"
   },
   "outputs": [
    {
     "data": {
      "text/plain": [
       "['Flow Bytes/s',\n",
       " 'Average Packet Size',\n",
       " 'Packet Length Mean',\n",
       " 'Max Packet Length',\n",
       " 'Fwd Packet Length Mean',\n",
       " 'Fwd IAT Min',\n",
       " 'Subflow Fwd Bytes',\n",
       " 'Avg Fwd Segment Size',\n",
       " 'Total Length of Fwd Packets',\n",
       " 'Flow IAT Mean',\n",
       " 'Fwd IAT Std',\n",
       " 'Fwd Header Length',\n",
       " 'Fwd Packet Length Max',\n",
       " 'Flow IAT Std',\n",
       " 'Flow Duration',\n",
       " 'Flow Packets/s',\n",
       " 'Fwd IAT Max',\n",
       " 'Fwd Packets/s',\n",
       " 'Fwd IAT Total',\n",
       " 'Flow IAT Max']"
      ]
     },
     "execution_count": 41,
     "metadata": {},
     "output_type": "execute_result"
    }
   ],
   "source": [
    "max_features = 20\n",
    "webattack_features = webattack_features[:max_features]\n",
    "webattack_features"
   ]
  },
  {
   "cell_type": "markdown",
   "metadata": {
    "id": "eLikdx9Legm0"
   },
   "source": [
    "## Analysis of selected features"
   ]
  },
  {
   "cell_type": "code",
   "execution_count": 42,
   "metadata": {
    "colab": {
     "base_uri": "https://localhost:8080/",
     "height": 716
    },
    "id": "l4AlTAUme5aJ",
    "outputId": "30c0dea5-f39d-4bf5-dc91-fb1619023a2c"
   },
   "outputs": [
    {
     "data": {
      "image/png": "[encoded data removed]",
      "text/plain": [
       "<Figure size 1440x864 with 20 Axes>"
      ]
     },
     "metadata": {
      "needs_background": "light"
     },
     "output_type": "display_data"
    }
   ],
   "source": [
    "df[webattack_features].hist(figsize=(20,12), bins=10);\n",
    "plt.savefig('features_hist.png', dpi=300)"
   ]
  },
  {
   "cell_type": "markdown",
   "metadata": {
    "id": "qURMpkLBf1ZH"
   },
   "source": [
    "Install Facets Overview\n",
    "\n",
    "https://pair-code.github.io/facets/"
   ]
  },
  {
   "cell_type": "markdown",
   "metadata": {
    "id": "_A9f2J2tf9eA"
   },
   "source": [
    "Create the feature stats for the datasets and stringify it."
   ]
  },
  {
   "cell_type": "code",
   "execution_count": 43,
   "metadata": {
    "colab": {
     "base_uri": "https://localhost:8080/",
     "height": 485
    },
    "id": "IIqD-DjrgbIr",
    "outputId": "745329d3-a08e-43e1-be61-3410b21254ca"
   },
   "outputs": [
    {
     "data": {
      "image/png": "[encoded data removed]",
      "text/plain": [
       "<Figure size 432x360 with 2 Axes>"
      ]
     },
     "metadata": {
      "needs_background": "light"
     },
     "output_type": "display_data"
    }
   ],
   "source": [
    "import seaborn as sns\n",
    "corr_matrix = df[webattack_features].corr()\n",
    "plt.rcParams['figure.figsize'] = (6, 5)\n",
    "sns.heatmap(corr_matrix);\n",
    "plt.savefig('corr_heatmap.png', dpi=300)"
   ]
  },
  {
   "cell_type": "markdown",
   "metadata": {
    "id": "r2J6Pz0xglza"
   },
   "source": [
    "Remove correlated features."
   ]
  },
  {
   "cell_type": "code",
   "execution_count": 44,
   "metadata": {
    "colab": {
     "base_uri": "https://localhost:8080/",
     "height": 187
    },
    "id": "Nml7xnnqgoMz",
    "outputId": "0aa704e5-a5ce-4234-d88b-e8c30b7fc68c"
   },
   "outputs": [
    {
     "data": {
      "text/plain": [
       "['Flow Bytes/s',\n",
       " 'Average Packet Size',\n",
       " 'Max Packet Length',\n",
       " 'Fwd Packet Length Mean',\n",
       " 'Fwd IAT Min',\n",
       " 'Total Length of Fwd Packets',\n",
       " 'Flow IAT Mean',\n",
       " 'Fwd IAT Std',\n",
       " 'Fwd Header Length',\n",
       " 'Fwd Packet Length Max']"
      ]
     },
     "execution_count": 44,
     "metadata": {},
     "output_type": "execute_result"
    }
   ],
   "source": [
    "to_be_removed = {'Packet Length Mean', 'Avg Fwd Segment Size', 'Subflow Fwd Bytes', 'Fwd Packets/s', 'Fwd IAT Total'}\n",
    "webattack_features = [item for item in webattack_features if item not in to_be_removed]\n",
    "webattack_features = webattack_features[:10]\n",
    "webattack_features"
   ]
  },
  {
   "cell_type": "code",
   "execution_count": 45,
   "metadata": {
    "colab": {
     "base_uri": "https://localhost:8080/",
     "height": 451
    },
    "id": "vHbm-bkbgDw8",
    "outputId": "446d41d9-78b9-47c8-d99b-7e56a4d0eab8"
   },
   "outputs": [
    {
     "data": {
      "image/png": "[encoded data removed]",
      "text/plain": [
       "<Figure size 432x360 with 2 Axes>"
      ]
     },
     "metadata": {
      "needs_background": "light"
     },
     "output_type": "display_data"
    }
   ],
   "source": [
    "corr_matrix = df[webattack_features].corr()\n",
    "plt.rcParams['figure.figsize'] = (6, 5)\n",
    "sns.heatmap(corr_matrix);"
   ]
  },
  {
   "cell_type": "markdown",
   "metadata": {
    "id": "eh-k8KdMhJ_Q"
   },
   "source": [
    "## Hyperparameter selection"
   ]
  },
  {
   "cell_type": "markdown",
   "metadata": {
    "id": "-jMiAnOthSIn"
   },
   "source": [
    "Reopen the dataset."
   ]
  },
  {
   "cell_type": "code",
   "execution_count": 46,
   "metadata": {
    "colab": {
     "base_uri": "https://localhost:8080/",
     "height": 34
    },
    "id": "vrwIysyAhKxI",
    "outputId": "6be7974a-d713-4c89-b147-8b8cebb7fba7"
   },
   "outputs": [
    {
     "name": "stdout",
     "output_type": "stream",
     "text": [
      "(7267, 10) (7267,)\n"
     ]
    }
   ],
   "source": [
    "from sklearn.model_selection import GridSearchCV\n",
    "\n",
    "df = pd.read_csv('web_attacks_balanced.csv')\n",
    "df['Label'] = df['Label'].apply(lambda x: 0 if x == 'BENIGN' else (0 if random.random() < 0 else 1))\n",
    "y = df['Label'].values\n",
    "X = df[webattack_features]\n",
    "print(X.shape, y.shape)"
   ]
  },
  {
   "cell_type": "markdown",
   "metadata": {
    "id": "PFYYEqnihZnZ"
   },
   "source": [
    "We get the list of RandomForestClassifier parameters."
   ]
  },
  {
   "cell_type": "code",
   "execution_count": 47,
   "metadata": {
    "colab": {
     "base_uri": "https://localhost:8080/",
     "height": 54
    },
    "id": "wc_IVcRPhU82",
    "outputId": "b246e3ad-4240-460b-f294-3ee8109e8b4e"
   },
   "outputs": [
    {
     "data": {
      "text/plain": [
       "dict_keys(['bootstrap', 'ccp_alpha', 'class_weight', 'criterion', 'max_depth', 'max_features', 'max_leaf_nodes', 'max_samples', 'min_impurity_decrease', 'min_impurity_split', 'min_samples_leaf', 'min_samples_split', 'min_weight_fraction_leaf', 'n_estimators', 'n_jobs', 'oob_score', 'random_state', 'verbose', 'warm_start'])"
      ]
     },
     "execution_count": 47,
     "metadata": {},
     "output_type": "execute_result"
    }
   ],
   "source": [
    "rfc = RandomForestClassifier(random_state=1)\n",
    "rfc.get_params().keys()"
   ]
  },
  {
   "cell_type": "markdown",
   "metadata": {
    "id": "LQ8VThpnheWD"
   },
   "source": [
    "For search of quasi-optimal value of one parameter we fix the others."
   ]
  },
  {
   "cell_type": "code",
   "execution_count": 48,
   "metadata": {
    "colab": {
     "base_uri": "https://localhost:8080/",
     "height": 51
    },
    "id": "4JoxI-axhdD7",
    "outputId": "211fa8fc-2493-48fd-d0d2-a48b6f2e06a4"
   },
   "outputs": [
    {
     "name": "stdout",
     "output_type": "stream",
     "text": [
      "CPU times: user 6.98 s, sys: 39.8 ms, total: 7.02 s\n",
      "Wall time: 7.03 s\n"
     ]
    }
   ],
   "source": [
    "parameters = {'n_estimators': [10],\n",
    "              'min_samples_leaf': [3],\n",
    "              'max_features': [3], \n",
    "              'max_depth': [1, 2, 3, 4, 5, 6, 7, 8, 9, 10, 11, 15, 20, 30, 50]}\n",
    "scoring = {'f1', 'accuracy'}\n",
    "gcv = GridSearchCV(rfc, parameters, scoring=scoring, refit='f1', cv=10, return_train_score=True)\n",
    "get_ipython().run_line_magic('time', 'gcv.fit(X, y)')\n",
    "results = gcv.cv_results_"
   ]
  },
  {
   "cell_type": "code",
   "execution_count": 49,
   "metadata": {
    "colab": {
     "base_uri": "https://localhost:8080/",
     "height": 168
    },
    "id": "OOS-7FXchh31",
    "outputId": "b1a993d9-0a3e-4f59-f012-8c37b503c266"
   },
   "outputs": [
    {
     "data": {
      "text/html": [
       "<div>\n",
       "<style scoped>\n",
       "    .dataframe tbody tr th:only-of-type {\n",
       "        vertical-align: middle;\n",
       "    }\n",
       "\n",
       "    .dataframe tbody tr th {\n",
       "        vertical-align: top;\n",
       "    }\n",
       "\n",
       "    .dataframe thead th {\n",
       "        text-align: right;\n",
       "    }\n",
       "</style>\n",
       "<table border=\"1\" class=\"dataframe\">\n",
       "  <thead>\n",
       "    <tr style=\"text-align: right;\">\n",
       "      <th></th>\n",
       "      <th>mean_fit_time</th>\n",
       "      <th>std_fit_time</th>\n",
       "      <th>mean_score_time</th>\n",
       "      <th>std_score_time</th>\n",
       "      <th>param_max_depth</th>\n",
       "      <th>param_max_features</th>\n",
       "      <th>param_min_samples_leaf</th>\n",
       "      <th>param_n_estimators</th>\n",
       "      <th>params</th>\n",
       "      <th>split0_test_f1</th>\n",
       "      <th>...</th>\n",
       "      <th>split2_train_accuracy</th>\n",
       "      <th>split3_train_accuracy</th>\n",
       "      <th>split4_train_accuracy</th>\n",
       "      <th>split5_train_accuracy</th>\n",
       "      <th>split6_train_accuracy</th>\n",
       "      <th>split7_train_accuracy</th>\n",
       "      <th>split8_train_accuracy</th>\n",
       "      <th>split9_train_accuracy</th>\n",
       "      <th>mean_train_accuracy</th>\n",
       "      <th>std_train_accuracy</th>\n",
       "    </tr>\n",
       "  </thead>\n",
       "  <tbody>\n",
       "    <tr>\n",
       "      <th>0</th>\n",
       "      <td>0.025241</td>\n",
       "      <td>0.001252</td>\n",
       "      <td>0.003677</td>\n",
       "      <td>0.000858</td>\n",
       "      <td>1</td>\n",
       "      <td>3</td>\n",
       "      <td>3</td>\n",
       "      <td>10</td>\n",
       "      <td>{'max_depth': 1, 'max_features': 3, 'min_sampl...</td>\n",
       "      <td>0.891509</td>\n",
       "      <td>...</td>\n",
       "      <td>0.907951</td>\n",
       "      <td>0.90474</td>\n",
       "      <td>0.906575</td>\n",
       "      <td>0.907798</td>\n",
       "      <td>0.904587</td>\n",
       "      <td>0.904449</td>\n",
       "      <td>0.90506</td>\n",
       "      <td>0.907201</td>\n",
       "      <td>0.905876</td>\n",
       "      <td>0.001788</td>\n",
       "    </tr>\n",
       "  </tbody>\n",
       "</table>\n",
       "<p>1 rows × 59 columns</p>\n",
       "</div>"
      ],
      "text/plain": [
       "   mean_fit_time  std_fit_time  mean_score_time  std_score_time  \\\n",
       "0       0.025241      0.001252         0.003677        0.000858   \n",
       "\n",
       "  param_max_depth param_max_features param_min_samples_leaf  \\\n",
       "0               1                  3                      3   \n",
       "\n",
       "  param_n_estimators                                             params  \\\n",
       "0                 10  {'max_depth': 1, 'max_features': 3, 'min_sampl...   \n",
       "\n",
       "   split0_test_f1  ...  split2_train_accuracy  split3_train_accuracy  \\\n",
       "0        0.891509  ...               0.907951                0.90474   \n",
       "\n",
       "   split4_train_accuracy  split5_train_accuracy  split6_train_accuracy  \\\n",
       "0               0.906575               0.907798               0.904587   \n",
       "\n",
       "   split7_train_accuracy  split8_train_accuracy  split9_train_accuracy  \\\n",
       "0               0.904449                0.90506               0.907201   \n",
       "\n",
       "   mean_train_accuracy  std_train_accuracy  \n",
       "0             0.905876            0.001788  \n",
       "\n",
       "[1 rows x 59 columns]"
      ]
     },
     "execution_count": 49,
     "metadata": {},
     "output_type": "execute_result"
    }
   ],
   "source": [
    "cv_results = pd.DataFrame(gcv.cv_results_)\n",
    "cv_results.head(1)"
   ]
  },
  {
   "cell_type": "code",
   "execution_count": 50,
   "metadata": {
    "colab": {
     "base_uri": "https://localhost:8080/",
     "height": 406
    },
    "id": "9Y75B_c_hn3b",
    "outputId": "f467bbbc-6fd9-4bb5-ed8e-f68862d6cabd"
   },
   "outputs": [
    {
     "data": {
      "image/png": "[encoded data removed]",
      "text/plain": [
       "<Figure size 576x432 with 1 Axes>"
      ]
     },
     "metadata": {
      "needs_background": "light"
     },
     "output_type": "display_data"
    }
   ],
   "source": [
    "# https://scikit-learn.org/dev/auto_examples/model_selection/plot_multi_metric_evaluation.html\n",
    "plt.figure(figsize=(8, 6))\n",
    "plt.title(\"GridSearchCV results\", fontsize=14)\n",
    "\n",
    "plt.xlabel(\"max_depth\")\n",
    "plt.ylabel(\"f1\")\n",
    "\n",
    "ax = plt.gca()\n",
    "ax.set_xlim(0, 30)\n",
    "ax.set_ylim(0.85, 1)\n",
    "\n",
    "X_axis = np.array(results['param_max_depth'].data, dtype=float)\n",
    "\n",
    "for scorer, color in zip(sorted(scoring), ['g', 'k']):\n",
    "    for sample, style in (('train', '--'), ('test', '-')):\n",
    "        sample_score_mean = results['mean_%s_%s' % (sample, scorer)]\n",
    "        sample_score_std = results['std_%s_%s' % (sample, scorer)]\n",
    "        ax.fill_between(X_axis, sample_score_mean - sample_score_std,\n",
    "                        sample_score_mean + sample_score_std,\n",
    "                        alpha=0.1 if sample == 'test' else 0, color=color)\n",
    "        ax.plot(X_axis, sample_score_mean, style, color=color,\n",
    "                alpha=1 if sample == 'test' else 0.7,\n",
    "                label=\"%s (%s)\" % (scorer, sample))\n",
    "\n",
    "    best_index = np.nonzero(results['rank_test_%s' % scorer] == 1)[0][0]\n",
    "    best_score = results['mean_test_%s' % scorer][best_index]\n",
    "\n",
    "    # Plot a dotted vertical line at the best score for that scorer marked by x\n",
    "    ax.plot([X_axis[best_index], ] * 2, [0, best_score],\n",
    "            linestyle='-.', color=color, marker='x', markeredgewidth=3, ms=8)\n",
    "\n",
    "    # Annotate the best score for that scorer\n",
    "    ax.annotate(\"%0.2f\" % best_score,\n",
    "                (X_axis[best_index] + 0.3, best_score + 0.005))\n",
    "\n",
    "plt.legend(loc=\"best\")\n",
    "plt.grid(False)\n",
    "plt.savefig('GridSearchCV_results.png', dpi=300)\n",
    "plt.show()"
   ]
  },
  {
   "cell_type": "markdown",
   "metadata": {
    "id": "hZtnTrlNk_Uf"
   },
   "source": [
    "### Grid search"
   ]
  },
  {
   "cell_type": "code",
   "execution_count": 51,
   "metadata": {
    "id": "eaeAf6VRhwJq"
   },
   "outputs": [],
   "source": [
    "parameters = {'n_estimators': [50, 100], \n",
    "              'min_samples_leaf': [3, 5, 7],\n",
    "              'max_features': [3, 5, 7, 10], \n",
    "              'max_depth': [17, 23]}\n",
    "\n",
    "parameters = {'n_estimators': [100], 'max_features': [10]}"
   ]
  },
  {
   "cell_type": "code",
   "execution_count": 52,
   "metadata": {
    "colab": {
     "base_uri": "https://localhost:8080/",
     "height": 374
    },
    "id": "O3ziP5BolEss",
    "outputId": "0f09bd77-fa69-472a-c195-b4b1f356fffd"
   },
   "outputs": [
    {
     "name": "stdout",
     "output_type": "stream",
     "text": [
      "CPU times: user 11 s, sys: 55.7 ms, total: 11.1 s\n",
      "Wall time: 11.1 s\n"
     ]
    },
    {
     "data": {
      "text/plain": [
       "GridSearchCV(cv=10, estimator=RandomForestClassifier(random_state=1),\n",
       "             param_grid={'max_features': [10], 'n_estimators': [100]},\n",
       "             refit='f1', return_train_score=True, scoring={'f1', 'accuracy'})"
      ]
     },
     "execution_count": 52,
     "metadata": {},
     "output_type": "execute_result"
    }
   ],
   "source": [
    "gcv = GridSearchCV(rfc, parameters, scoring=scoring, refit='f1', cv=10, return_train_score=True)\n",
    "get_ipython().run_line_magic('time', 'gcv.fit(X, y)')"
   ]
  },
  {
   "cell_type": "markdown",
   "metadata": {
    "id": "vwi5Ds61mirz"
   },
   "source": [
    "Let's take a look at the results of the parameter selection."
   ]
  },
  {
   "cell_type": "code",
   "execution_count": 53,
   "metadata": {
    "colab": {
     "base_uri": "https://localhost:8080/",
     "height": 153
    },
    "id": "vi47XwmNmeHT",
    "outputId": "5680d386-af3e-459f-831a-41594fb99765"
   },
   "outputs": [
    {
     "data": {
      "text/plain": [
       "RandomForestClassifier(max_features=10, random_state=1)"
      ]
     },
     "execution_count": 53,
     "metadata": {},
     "output_type": "execute_result"
    }
   ],
   "source": [
    "gcv.best_estimator_ "
   ]
  },
  {
   "cell_type": "code",
   "execution_count": 54,
   "metadata": {
    "colab": {
     "base_uri": "https://localhost:8080/",
     "height": 34
    },
    "id": "PxeUXPHHmk3C",
    "outputId": "54492363-1028-4859-c586-782e67c9ac82"
   },
   "outputs": [
    {
     "data": {
      "text/plain": [
       "{'max_features': 10, 'n_estimators': 100}"
      ]
     },
     "execution_count": 54,
     "metadata": {},
     "output_type": "execute_result"
    }
   ],
   "source": [
    "gcv.best_params_"
   ]
  },
  {
   "cell_type": "code",
   "execution_count": 55,
   "metadata": {
    "colab": {
     "base_uri": "https://localhost:8080/",
     "height": 34
    },
    "id": "4VFX3ERUmlvk",
    "outputId": "5c5f8f0f-674f-4c0c-f646-ce63425d5f7f"
   },
   "outputs": [
    {
     "data": {
      "text/plain": [
       "0.9578133377376362"
      ]
     },
     "execution_count": 55,
     "metadata": {},
     "output_type": "execute_result"
    }
   ],
   "source": [
    "gcv.best_score_"
   ]
  },
  {
   "cell_type": "markdown",
   "metadata": {},
   "source": [
    "ОЦЕНКА ПО РЕАЛЬНЫМ ДАННЫМ"
   ]
  },
  {
   "cell_type": "code",
   "execution_count": 75,
   "metadata": {},
   "outputs": [
    {
     "data": {
      "text/plain": [
       "RandomForestClassifier(max_features=10, random_state=1)"
      ]
     },
     "execution_count": 75,
     "metadata": {},
     "output_type": "execute_result"
    }
   ],
   "source": [
    "with open('webattack_detection_rf_model.pkl', 'rb') as f:\n",
    "    rfc = pickle.load(f)\n",
    "rfc"
   ]
  },
  {
   "cell_type": "code",
   "execution_count": 76,
   "metadata": {},
   "outputs": [
    {
     "name": "stdout",
     "output_type": "stream",
     "text": [
      "(1407, 10) (1407,)\n"
     ]
    }
   ],
   "source": [
    "df = pd.read_csv('mix_labelled.csv')\n",
    "# df = pd.read_csv('mix_labelled.csv')\n",
    "df['Label'] = df['Label'].apply(lambda x: 0 if x == 'BENIGN' else 1)\n",
    "y_test = df['Label'].values\n",
    "X_test = df[webattack_features]\n",
    "print(X_test.shape, y_test.shape)"
   ]
  },
  {
   "cell_type": "code",
   "execution_count": 77,
   "metadata": {},
   "outputs": [
    {
     "name": "stdout",
     "output_type": "stream",
     "text": [
      "Total operation time: 0.023569107055664062 seconds\n",
      "Benign records detected (0), attacks detected (1):\n"
     ]
    },
    {
     "data": {
      "text/plain": [
       "{0: 1376, 1: 31}"
      ]
     },
     "execution_count": 77,
     "metadata": {},
     "output_type": "execute_result"
    }
   ],
   "source": [
    "import time\n",
    "seconds = time.time()\n",
    "y_pred = rfc.predict(X_test)\n",
    "print(\"Total operation time:\", time.time() - seconds, \"seconds\")\n",
    "\n",
    "print(\"Benign records detected (0), attacks detected (1):\")\n",
    "unique, counts = np.unique(y_pred, return_counts=True)\n",
    "dict(zip(unique, counts))"
   ]
  },
  {
   "cell_type": "code",
   "execution_count": 78,
   "metadata": {},
   "outputs": [
    {
     "name": "stdout",
     "output_type": "stream",
     "text": [
      "Precision = 1.0\n",
      "Recall = 0.02203269367448472\n",
      "F1 = 0.043115438108484005\n",
      "Accuracy = 0.02203269367448472\n"
     ]
    }
   ],
   "source": [
    "import sklearn.metrics as metrics\n",
    "accuracy = metrics.accuracy_score(y_test, y_pred)\n",
    "f1 = metrics.f1_score(y_test, y_pred)\n",
    "precision = metrics.precision_score(y_test, y_pred)\n",
    "recall = metrics.recall_score(y_test, y_pred)\n",
    "print('Precision =', precision)\n",
    "print('Recall =', recall)\n",
    "print('F1 =', f1)\n",
    "print('Accuracy =', accuracy)"
   ]
  }
 ],
 "metadata": {
  "colab": {
   "collapsed_sections": [
    "SCEkDfpOFPQX",
    "3P69z9kfupES",
    "eLikdx9Legm0",
    "eh-k8KdMhJ_Q",
    "Iiskwr3VmoL5",
    "5PElFLh5oYzU",
    "pnHSPBrDodIs"
   ],
   "name": "Copy of Web Attack Detection (ML IDS)",
   "provenance": []
  },
  "kernelspec": {
   "display_name": "Python 3 (ipykernel)",
   "language": "python",
   "name": "python3"
  },
  "language_info": {
   "codemirror_mode": {
    "name": "ipython",
    "version": 3
   },
   "file_extension": ".py",
   "mimetype": "text/x-python",
   "name": "python",
   "nbconvert_exporter": "python",
   "pygments_lexer": "ipython3",
   "version": "3.9.7"
  }
 },
 "nbformat": 4,
 "nbformat_minor": 1
}
